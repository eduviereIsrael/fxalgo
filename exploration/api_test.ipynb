{
 "cells": [
  {
   "cell_type": "code",
   "execution_count": 5,
   "id": "47ce148b-4d58-4c01-9bcc-5c06d45bba3c",
   "metadata": {},
   "outputs": [],
   "source": [
    "import requests\n",
    "import pandas as pd\n",
    "import json\n",
    "from dateutil import parser\n",
    "import datetime as dt\n",
    "import plotly.graph_objects as go"
   ]
  },
  {
   "cell_type": "code",
   "execution_count": 6,
   "id": "38cd2942-ff86-42e4-bdb6-ec26ba37705d",
   "metadata": {},
   "outputs": [],
   "source": [
    "API_KEY = \"747256ed65c7d1f36b050997ad0f2856-65843a1a530674432f7e7cc1374e0eb0\"\n",
    "ACCOUNT_ID = \"101-004-29211030-001\"\n",
    "OANDA_URL = \"https://api-fxpractice.oanda.com/v3/\""
   ]
  },
  {
   "cell_type": "code",
   "execution_count": 7,
   "id": "5531e00c-a356-418e-86c4-10f61d082fda",
   "metadata": {},
   "outputs": [],
   "source": [
    "session = requests.Session()"
   ]
  },
  {
   "cell_type": "code",
   "execution_count": 8,
   "id": "3969c894-670a-4e59-9564-c0b5575f9f2b",
   "metadata": {},
   "outputs": [],
   "source": [
    "session.headers.update({\n",
    "    \"Authorization\" : f\"Bearer {API_KEY}\",\n",
    "    \"Content-Type\" : \"application/json\"\n",
    "})"
   ]
  },
  {
   "cell_type": "code",
   "execution_count": 9,
   "id": "fdb8b2fd-7571-48a0-a9d0-d4478226b294",
   "metadata": {},
   "outputs": [],
   "source": [
    "params = dict(\n",
    "    count = 10,\n",
    "    granularity = \"H1\",\n",
    "    price = \"MBA\"\n",
    ")"
   ]
  },
  {
   "cell_type": "code",
   "execution_count": 10,
   "id": "b930ba85-e2d1-499b-8eeb-f8ad78031a4f",
   "metadata": {},
   "outputs": [],
   "source": [
    "url = f\"{OANDA_URL}/accounts/{ACCOUNT_ID}/instruments\""
   ]
  },
  {
   "cell_type": "code",
   "execution_count": 11,
   "id": "853e2757-2297-4ec6-9e34-8a3bad925b42",
   "metadata": {},
   "outputs": [],
   "source": [
    "response = session.get(url, params = None, data=None, headers=None)"
   ]
  },
  {
   "cell_type": "code",
   "execution_count": 12,
   "id": "ff200ebe-0284-4692-bb1b-01e0e9412fd2",
   "metadata": {},
   "outputs": [
    {
     "data": {
      "text/plain": [
       "200"
      ]
     },
     "execution_count": 12,
     "metadata": {},
     "output_type": "execute_result"
    }
   ],
   "source": [
    "response.status_code"
   ]
  },
  {
   "cell_type": "code",
   "execution_count": 13,
   "id": "826dd1e3-432a-4b9e-8c96-b38b0f6c59d4",
   "metadata": {},
   "outputs": [],
   "source": [
    "data = response.json()"
   ]
  },
  {
   "cell_type": "code",
   "execution_count": 14,
   "id": "918bf9c6-6af7-4898-9bae-509ea2903e47",
   "metadata": {},
   "outputs": [],
   "source": [
    "instruments_list = data[\"instruments\"]"
   ]
  },
  {
   "cell_type": "code",
   "execution_count": 15,
   "id": "093e85e9-579b-409f-b551-c2601349697d",
   "metadata": {},
   "outputs": [
    {
     "data": {
      "text/plain": [
       "123"
      ]
     },
     "execution_count": 15,
     "metadata": {},
     "output_type": "execute_result"
    }
   ],
   "source": [
    "len(instruments_list)"
   ]
  },
  {
   "cell_type": "code",
   "execution_count": 16,
   "id": "02b4789e-095b-4872-95aa-11e888fef7f9",
   "metadata": {},
   "outputs": [
    {
     "data": {
      "text/plain": [
       "dict_keys(['name', 'type', 'displayName', 'pipLocation', 'displayPrecision', 'tradeUnitsPrecision', 'minimumTradeSize', 'maximumTrailingStopDistance', 'minimumTrailingStopDistance', 'maximumPositionSize', 'maximumOrderUnits', 'marginRate', 'guaranteedStopLossOrderMode', 'tags', 'financing'])"
      ]
     },
     "execution_count": 16,
     "metadata": {},
     "output_type": "execute_result"
    }
   ],
   "source": [
    "instruments_list[0].keys()"
   ]
  },
  {
   "cell_type": "code",
   "execution_count": 17,
   "id": "aa93f4e3-2349-4285-a5fe-06cf61d38cbd",
   "metadata": {},
   "outputs": [],
   "source": [
    "key_1 = ['name', 'type', 'displayName', 'pipLocation', 'displayPrecision', 'tradeUnitsPrecision', 'marginRate']"
   ]
  },
  {
   "cell_type": "code",
   "execution_count": 18,
   "id": "fb7a64c6-e445-45ff-96c8-bfb73b43e50f",
   "metadata": {},
   "outputs": [],
   "source": [
    "instruments_dict = {}\n",
    "\n",
    "for i in instruments_list:\n",
    "    key = i[\"name\"]\n",
    "    instruments_dict[key] = {k : i[k] for k in key_1}"
   ]
  },
  {
   "cell_type": "code",
   "execution_count": 19,
   "id": "0de71812-6ace-48c1-931e-2c6ea4bb6523",
   "metadata": {},
   "outputs": [
    {
     "data": {
      "text/plain": [
       "{'name': 'USD_CAD',\n",
       " 'type': 'CURRENCY',\n",
       " 'displayName': 'USD/CAD',\n",
       " 'pipLocation': -4,\n",
       " 'displayPrecision': 5,\n",
       " 'tradeUnitsPrecision': 0,\n",
       " 'marginRate': '0.03333333333333'}"
      ]
     },
     "execution_count": 19,
     "metadata": {},
     "output_type": "execute_result"
    }
   ],
   "source": [
    "instruments_dict[\"USD_CAD\"]"
   ]
  },
  {
   "cell_type": "code",
   "execution_count": 20,
   "id": "66e4c916-b8b8-461b-a7b3-f519ebdb91fe",
   "metadata": {},
   "outputs": [],
   "source": [
    "with open(\"../data/instruments.json\", \"w\") as f:\n",
    "    f.write(json.dumps(instruments_dict, indent=2))"
   ]
  },
  {
   "cell_type": "code",
   "execution_count": 21,
   "id": "a8ec913f-9523-4cff-afdd-23e0202f9434",
   "metadata": {},
   "outputs": [],
   "source": [
    "def fetch_candles(pair_name, count = 10, granularity=\"H1\"):\n",
    "    url = f\"{OANDA_URL}/instruments/{pair_name}/candles\"\n",
    "    params = dict(\n",
    "        count = count,\n",
    "        granularity = granularity,\n",
    "        price = \"MBA\"\n",
    "    )\n",
    "    response = session.get(url, params = params, data=None, headers=None)\n",
    "    data = response.json()\n",
    "\n",
    "    if response.status_code == 200:\n",
    "        if 'candles' not in data:\n",
    "            data = []\n",
    "        else:\n",
    "            data = data['candles']\n",
    "    return response.status_code, data\n",
    "\n",
    "def get_candles_df(data):\n",
    "    if len(data) == 0:\n",
    "        return pd.DataFrame()\n",
    "\n",
    "    prices = ['mid', 'bid', 'ask']\n",
    "    ohlc = ['o', 'h', 'l', 'c']\n",
    "    final_data = []\n",
    "    for candle in data:\n",
    "        if candle['complete'] == False:\n",
    "            continue\n",
    "        new_dict = {}\n",
    "        new_dict[\"time\"] = parser.parse(candle[\"time\"])\n",
    "        new_dict[\"volume\"] = candle[\"volume\"]\n",
    "        for p in prices:\n",
    "                for o in ohlc:\n",
    "                    new_dict[f\"{p}_{o}\"] = float(candle[p][o])\n",
    "        final_data.append(new_dict)\n",
    "    \n",
    "    df = pd.DataFrame.from_dict(final_data)\n",
    "    return df\n",
    "\n",
    "def create_data_file(pair_name, count=10, granularity=\"H1\"):\n",
    "    code, data = fetch_candles(pair_name, count, granularity)\n",
    "    if code != 200:\n",
    "        print(\"Failed\", pair_name, data)\n",
    "        return\n",
    "    if len(data) == 0:\n",
    "        print(\"No candles\", pair_name)\n",
    "    candles_df = get_candles_df(data)\n",
    "    candles_df.to_pickle(f\"../data/{pair_name}_{granularity}.pkl\")\n",
    "    print(f\"{pair_name} {granularity} {candles_df.shape[0]} candles, {candles_df.time.min()} {candles_df.time.max()}\")\n",
    "    "
   ]
  },
  {
   "cell_type": "code",
   "execution_count": 22,
   "id": "0183a6b0-a592-43d3-a1db-e38aea736c76",
   "metadata": {},
   "outputs": [],
   "source": [
    "code, data = fetch_candles(\"EUR_USD\", count = 10, granularity=\"H4\")\n",
    "condles_df = get_candles_df(data)"
   ]
  },
  {
   "cell_type": "code",
   "execution_count": 47,
   "id": "a769c924-9d35-40fe-8037-27856494a295",
   "metadata": {},
   "outputs": [
    {
     "name": "stdout",
     "output_type": "stream",
     "text": [
      "EUR_USD H4 4099 candles, 2021-10-27 17:00:00+00:00 2024-06-13 17:00:00+00:00\n"
     ]
    }
   ],
   "source": [
    "dt_plot=create_data_file('EUR_USD', count=4100, granularity=\"H4\")"
   ]
  },
  {
   "cell_type": "code",
   "execution_count": 24,
   "id": "f9f9ae98-d964-464a-b2c8-2a0b51334220",
   "metadata": {},
   "outputs": [],
   "source": [
    "our_curr = ['EUR', 'USD', 'GBP', 'JPY', 'CHF', 'NZD', 'CAD', 'AUD']"
   ]
  },
  {
   "cell_type": "code",
   "execution_count": 25,
   "id": "ab03a503-8613-45e6-b6e9-f84a625f3e72",
   "metadata": {},
   "outputs": [
    {
     "name": "stdout",
     "output_type": "stream",
     "text": [
      "EUR_USD H1 4000 candles, 2023-10-23 05:00:00+00:00 2024-06-13 22:00:00+00:00\n",
      "EUR_USD H4 4000 candles, 2021-11-19 06:00:00+00:00 2024-06-13 17:00:00+00:00\n",
      "EUR_GBP H1 4000 candles, 2023-10-23 05:00:00+00:00 2024-06-13 22:00:00+00:00\n",
      "EUR_GBP H4 4000 candles, 2021-11-19 06:00:00+00:00 2024-06-13 17:00:00+00:00\n",
      "EUR_JPY H1 4000 candles, 2023-10-23 05:00:00+00:00 2024-06-13 22:00:00+00:00\n",
      "EUR_JPY H4 4000 candles, 2021-11-18 22:00:00+00:00 2024-06-13 17:00:00+00:00\n",
      "EUR_CHF H1 4000 candles, 2023-10-23 05:00:00+00:00 2024-06-13 22:00:00+00:00\n",
      "EUR_CHF H4 4000 candles, 2021-11-19 06:00:00+00:00 2024-06-13 17:00:00+00:00\n",
      "EUR_NZD H1 4000 candles, 2023-10-23 07:00:00+00:00 2024-06-13 22:00:00+00:00\n",
      "EUR_NZD H4 4000 candles, 2021-11-19 14:00:00+00:00 2024-06-13 17:00:00+00:00\n",
      "EUR_CAD H1 4000 candles, 2023-10-23 05:00:00+00:00 2024-06-13 22:00:00+00:00\n",
      "EUR_CAD H4 4000 candles, 2021-11-19 06:00:00+00:00 2024-06-13 17:00:00+00:00\n",
      "EUR_AUD H1 4000 candles, 2023-10-23 05:00:00+00:00 2024-06-13 22:00:00+00:00\n",
      "EUR_AUD H4 4000 candles, 2021-11-19 06:00:00+00:00 2024-06-13 17:00:00+00:00\n",
      "USD_JPY H1 4000 candles, 2023-10-23 05:00:00+00:00 2024-06-13 22:00:00+00:00\n",
      "USD_JPY H4 4000 candles, 2021-11-19 06:00:00+00:00 2024-06-13 17:00:00+00:00\n",
      "USD_CHF H1 4000 candles, 2023-10-23 05:00:00+00:00 2024-06-13 22:00:00+00:00\n",
      "USD_CHF H4 4000 candles, 2021-11-19 06:00:00+00:00 2024-06-13 17:00:00+00:00\n",
      "USD_CAD H1 4000 candles, 2023-10-23 05:00:00+00:00 2024-06-13 22:00:00+00:00\n",
      "USD_CAD H4 4000 candles, 2021-11-19 06:00:00+00:00 2024-06-13 17:00:00+00:00\n",
      "GBP_USD H1 4000 candles, 2023-10-23 05:00:00+00:00 2024-06-13 22:00:00+00:00\n",
      "GBP_USD H4 4000 candles, 2021-11-19 06:00:00+00:00 2024-06-13 17:00:00+00:00\n",
      "GBP_JPY H1 4000 candles, 2023-10-23 05:00:00+00:00 2024-06-13 22:00:00+00:00\n",
      "GBP_JPY H4 4000 candles, 2021-11-19 06:00:00+00:00 2024-06-13 17:00:00+00:00\n",
      "GBP_CHF H1 4000 candles, 2023-10-23 05:00:00+00:00 2024-06-13 22:00:00+00:00\n",
      "GBP_CHF H4 4000 candles, 2021-11-19 06:00:00+00:00 2024-06-13 17:00:00+00:00\n",
      "GBP_NZD H1 4000 candles, 2023-10-23 07:00:00+00:00 2024-06-13 22:00:00+00:00\n",
      "GBP_NZD H4 4000 candles, 2021-11-19 14:00:00+00:00 2024-06-13 17:00:00+00:00\n",
      "GBP_CAD H1 4000 candles, 2023-10-23 05:00:00+00:00 2024-06-13 22:00:00+00:00\n",
      "GBP_CAD H4 4000 candles, 2021-11-19 06:00:00+00:00 2024-06-13 17:00:00+00:00\n",
      "GBP_AUD H1 4000 candles, 2023-10-23 05:00:00+00:00 2024-06-13 22:00:00+00:00\n",
      "GBP_AUD H4 4000 candles, 2021-11-19 06:00:00+00:00 2024-06-13 17:00:00+00:00\n",
      "CHF_JPY H1 4000 candles, 2023-10-23 05:00:00+00:00 2024-06-13 22:00:00+00:00\n",
      "CHF_JPY H4 4000 candles, 2021-11-19 06:00:00+00:00 2024-06-13 17:00:00+00:00\n",
      "NZD_USD H1 4000 candles, 2023-10-23 09:00:00+00:00 2024-06-13 22:00:00+00:00\n",
      "NZD_USD H4 4000 candles, 2021-11-21 22:00:00+00:00 2024-06-13 17:00:00+00:00\n",
      "NZD_JPY H1 4000 candles, 2023-10-23 07:00:00+00:00 2024-06-13 22:00:00+00:00\n",
      "NZD_JPY H4 4000 candles, 2021-11-19 14:00:00+00:00 2024-06-13 17:00:00+00:00\n",
      "NZD_CHF H1 4000 candles, 2023-10-23 06:00:00+00:00 2024-06-13 22:00:00+00:00\n",
      "NZD_CHF H4 4000 candles, 2021-11-19 10:00:00+00:00 2024-06-13 17:00:00+00:00\n",
      "NZD_CAD H1 4000 candles, 2023-10-23 08:00:00+00:00 2024-06-13 22:00:00+00:00\n",
      "NZD_CAD H4 4000 candles, 2021-11-19 14:00:00+00:00 2024-06-13 17:00:00+00:00\n",
      "CAD_JPY H1 4000 candles, 2023-10-23 05:00:00+00:00 2024-06-13 22:00:00+00:00\n",
      "CAD_JPY H4 4000 candles, 2021-11-19 06:00:00+00:00 2024-06-13 17:00:00+00:00\n",
      "CAD_CHF H1 4000 candles, 2023-10-23 05:00:00+00:00 2024-06-13 22:00:00+00:00\n",
      "CAD_CHF H4 4000 candles, 2021-11-19 06:00:00+00:00 2024-06-13 17:00:00+00:00\n",
      "AUD_USD H1 4000 candles, 2023-10-23 05:00:00+00:00 2024-06-13 22:00:00+00:00\n",
      "AUD_USD H4 4000 candles, 2021-11-19 06:00:00+00:00 2024-06-13 17:00:00+00:00\n",
      "AUD_JPY H1 4000 candles, 2023-10-23 05:00:00+00:00 2024-06-13 22:00:00+00:00\n",
      "AUD_JPY H4 4000 candles, 2021-11-22 06:00:00+00:00 2024-06-13 17:00:00+00:00\n",
      "AUD_CHF H1 4000 candles, 2023-10-23 05:00:00+00:00 2024-06-13 22:00:00+00:00\n",
      "AUD_CHF H4 4000 candles, 2021-11-19 02:00:00+00:00 2024-06-13 17:00:00+00:00\n",
      "AUD_NZD H1 4000 candles, 2023-10-23 07:00:00+00:00 2024-06-13 22:00:00+00:00\n",
      "AUD_NZD H4 4000 candles, 2021-11-19 10:00:00+00:00 2024-06-13 17:00:00+00:00\n",
      "AUD_CAD H1 4000 candles, 2023-10-23 05:00:00+00:00 2024-06-13 22:00:00+00:00\n",
      "AUD_CAD H4 4000 candles, 2021-11-19 06:00:00+00:00 2024-06-13 17:00:00+00:00\n"
     ]
    }
   ],
   "source": [
    "for p1 in our_curr:\n",
    "    for p2 in our_curr:\n",
    "        pr = f\"{p1}_{p2}\"\n",
    "        if pr in instruments_dict:\n",
    "            for g in [\"H1\", \"H4\"]:\n",
    "                create_data_file(pr, count=4001, granularity=g)"
   ]
  },
  {
   "cell_type": "code",
   "execution_count": 56,
   "id": "2e4598f7-c89a-4c1c-a3b7-8193be76158c",
   "metadata": {},
   "outputs": [],
   "source": [
    "pair = 'EUR_USD'\n",
    "granularity='H4'\n",
    "df=pd.read_pickle(f\"../data/{pair}_{granularity}.pkl\")"
   ]
  },
  {
   "cell_type": "code",
   "execution_count": 69,
   "id": "b0f389bc-f682-4f66-aa59-e4609d6117f6",
   "metadata": {},
   "outputs": [],
   "source": [
    "df['sTime'] = [dt.datetime.strftime(x, \"s%t-%m-%d %H:%M\") for x in df.time]"
   ]
  },
  {
   "cell_type": "code",
   "execution_count": 71,
   "id": "9d684426-6b7d-41ad-a85d-554095aefad4",
   "metadata": {},
   "outputs": [],
   "source": [
    "\n",
    "dt_plot = df.iloc[:100]"
   ]
  },
  {
   "cell_type": "code",
   "execution_count": 72,
   "id": "61998848-7196-4433-bcba-e5fb32641637",
   "metadata": {},
   "outputs": [
    {
     "data": {
      "application/vnd.plotly.v1+json": {
       "config": {
        "plotlyServerURL": "https://plot.ly"
       },
       "data": [
        {
         "close": [
          1.16033,
          1.15927,
          1.16066,
          1.15902,
          1.163,
          1.16786,
          1.1683,
          1.16844,
          1.16644,
          1.16508,
          1.16256,
          1.15386,
          1.15619,
          1.1555,
          1.15516,
          1.15722,
          1.15776,
          1.1592,
          1.16062,
          1.1597,
          1.1604,
          1.15886,
          1.16072,
          1.1578,
          1.15799,
          1.158,
          1.15836,
          1.15856,
          1.15837,
          1.15827,
          1.16117,
          1.16125,
          1.15908,
          1.15528,
          1.15624,
          1.15439,
          1.15544,
          1.15515,
          1.15576,
          1.15494,
          1.15146,
          1.15636,
          1.15681,
          1.1555,
          1.156,
          1.15613,
          1.15687,
          1.1586,
          1.15872,
          1.15804,
          1.15997,
          1.15936,
          1.15962,
          1.15916,
          1.15944,
          1.15916,
          1.15776,
          1.15778,
          1.15532,
          1.15124,
          1.14778,
          1.14794,
          1.14793,
          1.14632,
          1.14598,
          1.14512,
          1.14493,
          1.14388,
          1.14439,
          1.14426,
          1.14458,
          1.14492,
          1.14433,
          1.14598,
          1.14601,
          1.14486,
          1.14458,
          1.13856,
          1.13676,
          1.1379,
          1.13772,
          1.1361,
          1.1362,
          1.13274,
          1.13204,
          1.1323,
          1.12992,
          1.13124,
          1.12991,
          1.13189,
          1.13189,
          1.13243,
          1.13182,
          1.13319,
          1.13348,
          1.13699,
          1.1373,
          1.13568,
          1.13528,
          1.12993
         ],
         "decreasing": {
          "fillcolor": "#CC2E3C",
          "line": {
           "color": "#FF3A4C"
          }
         },
         "high": [
          1.16162,
          1.16051,
          1.16098,
          1.16145,
          1.16361,
          1.16923,
          1.16893,
          1.16902,
          1.16861,
          1.16758,
          1.16569,
          1.1636,
          1.15653,
          1.15652,
          1.15605,
          1.15754,
          1.15799,
          1.15941,
          1.1609,
          1.16064,
          1.16086,
          1.16136,
          1.16077,
          1.16077,
          1.15855,
          1.15822,
          1.15873,
          1.15893,
          1.1598,
          1.1586,
          1.16164,
          1.16166,
          1.16128,
          1.15921,
          1.1563,
          1.15732,
          1.15579,
          1.15564,
          1.15578,
          1.15631,
          1.15496,
          1.15667,
          1.15736,
          1.15699,
          1.15632,
          1.15762,
          1.15832,
          1.1595,
          1.15914,
          1.15908,
          1.16066,
          1.16064,
          1.15985,
          1.16089,
          1.15986,
          1.15956,
          1.15923,
          1.15824,
          1.15812,
          1.15745,
          1.15157,
          1.14876,
          1.14846,
          1.14851,
          1.1475,
          1.14772,
          1.14528,
          1.14532,
          1.14443,
          1.14561,
          1.14554,
          1.14623,
          1.1452,
          1.146,
          1.1464,
          1.14622,
          1.14566,
          1.14462,
          1.13901,
          1.13798,
          1.13858,
          1.13824,
          1.1375,
          1.13626,
          1.13344,
          1.13268,
          1.13242,
          1.1321,
          1.13322,
          1.13268,
          1.13266,
          1.13284,
          1.13381,
          1.13399,
          1.13484,
          1.1374,
          1.13742,
          1.13734,
          1.13583,
          1.13606
         ],
         "increasing": {
          "fillcolor": "#24A06B",
          "line": {
           "color": "#2EC886"
          }
         },
         "line": {
          "width": 1
         },
         "low": [
          1.15986,
          1.159,
          1.15894,
          1.15835,
          1.15823,
          1.16246,
          1.16712,
          1.16794,
          1.16639,
          1.16492,
          1.16211,
          1.15352,
          1.1538,
          1.15514,
          1.15461,
          1.15472,
          1.1562,
          1.15656,
          1.15885,
          1.15954,
          1.15951,
          1.15875,
          1.15859,
          1.15752,
          1.1577,
          1.1575,
          1.15775,
          1.15784,
          1.15774,
          1.15624,
          1.1572,
          1.16079,
          1.15908,
          1.15489,
          1.15426,
          1.15282,
          1.1543,
          1.15472,
          1.1541,
          1.15472,
          1.15134,
          1.15133,
          1.15482,
          1.1554,
          1.15534,
          1.15505,
          1.15552,
          1.1564,
          1.15829,
          1.15772,
          1.15796,
          1.15804,
          1.15698,
          1.15714,
          1.15872,
          1.15882,
          1.1577,
          1.1558,
          1.15322,
          1.15056,
          1.14762,
          1.14728,
          1.14648,
          1.1454,
          1.14542,
          1.14502,
          1.1443,
          1.1436,
          1.14363,
          1.14374,
          1.14374,
          1.1433,
          1.14416,
          1.14412,
          1.14552,
          1.14366,
          1.14394,
          1.13804,
          1.13564,
          1.13596,
          1.13756,
          1.13578,
          1.13515,
          1.13194,
          1.13089,
          1.131,
          1.12637,
          1.12956,
          1.1298,
          1.1293,
          1.13111,
          1.13157,
          1.13159,
          1.13138,
          1.1328,
          1.13269,
          1.1367,
          1.1356,
          1.1352,
          1.12829
         ],
         "opacity": 1,
         "open": [
          1.16088,
          1.16036,
          1.15926,
          1.16068,
          1.159,
          1.16303,
          1.16784,
          1.16831,
          1.16846,
          1.16643,
          1.16511,
          1.16258,
          1.15387,
          1.15596,
          1.15551,
          1.15518,
          1.15722,
          1.15775,
          1.15921,
          1.16042,
          1.15972,
          1.16038,
          1.15888,
          1.1607,
          1.15781,
          1.15788,
          1.15798,
          1.15838,
          1.15855,
          1.15836,
          1.15828,
          1.16122,
          1.16126,
          1.15908,
          1.1553,
          1.15625,
          1.1544,
          1.15536,
          1.15516,
          1.15574,
          1.15493,
          1.15143,
          1.15634,
          1.1559,
          1.15548,
          1.15602,
          1.15612,
          1.15688,
          1.1586,
          1.15872,
          1.15802,
          1.15997,
          1.15934,
          1.1596,
          1.15918,
          1.15952,
          1.15917,
          1.15775,
          1.15776,
          1.15534,
          1.15126,
          1.14788,
          1.14796,
          1.14793,
          1.1463,
          1.14596,
          1.14513,
          1.14524,
          1.1439,
          1.14439,
          1.14428,
          1.14456,
          1.1449,
          1.14486,
          1.146,
          1.14603,
          1.14484,
          1.14459,
          1.13854,
          1.13699,
          1.13791,
          1.13772,
          1.13612,
          1.13619,
          1.13276,
          1.13222,
          1.13232,
          1.12992,
          1.13126,
          1.12992,
          1.13191,
          1.132,
          1.13244,
          1.13182,
          1.13318,
          1.13347,
          1.13698,
          1.13692,
          1.13569,
          1.13526
         ],
         "type": "candlestick",
         "x": [
          "s\t-10-27 17:00",
          "s\t-10-27 21:00",
          "s\t-10-28 01:00",
          "s\t-10-28 05:00",
          "s\t-10-28 09:00",
          "s\t-10-28 13:00",
          "s\t-10-28 17:00",
          "s\t-10-28 21:00",
          "s\t-10-29 01:00",
          "s\t-10-29 05:00",
          "s\t-10-29 09:00",
          "s\t-10-29 13:00",
          "s\t-10-29 17:00",
          "s\t-10-31 21:00",
          "s\t-11-01 01:00",
          "s\t-11-01 05:00",
          "s\t-11-01 09:00",
          "s\t-11-01 13:00",
          "s\t-11-01 17:00",
          "s\t-11-01 21:00",
          "s\t-11-02 01:00",
          "s\t-11-02 05:00",
          "s\t-11-02 09:00",
          "s\t-11-02 13:00",
          "s\t-11-02 17:00",
          "s\t-11-02 21:00",
          "s\t-11-03 01:00",
          "s\t-11-03 05:00",
          "s\t-11-03 09:00",
          "s\t-11-03 13:00",
          "s\t-11-03 17:00",
          "s\t-11-03 21:00",
          "s\t-11-04 01:00",
          "s\t-11-04 05:00",
          "s\t-11-04 09:00",
          "s\t-11-04 13:00",
          "s\t-11-04 17:00",
          "s\t-11-04 21:00",
          "s\t-11-05 01:00",
          "s\t-11-05 05:00",
          "s\t-11-05 09:00",
          "s\t-11-05 13:00",
          "s\t-11-05 17:00",
          "s\t-11-07 22:00",
          "s\t-11-08 02:00",
          "s\t-11-08 06:00",
          "s\t-11-08 10:00",
          "s\t-11-08 14:00",
          "s\t-11-08 18:00",
          "s\t-11-08 22:00",
          "s\t-11-09 02:00",
          "s\t-11-09 06:00",
          "s\t-11-09 10:00",
          "s\t-11-09 14:00",
          "s\t-11-09 18:00",
          "s\t-11-09 22:00",
          "s\t-11-10 02:00",
          "s\t-11-10 06:00",
          "s\t-11-10 10:00",
          "s\t-11-10 14:00",
          "s\t-11-10 18:00",
          "s\t-11-10 22:00",
          "s\t-11-11 02:00",
          "s\t-11-11 06:00",
          "s\t-11-11 10:00",
          "s\t-11-11 14:00",
          "s\t-11-11 18:00",
          "s\t-11-11 22:00",
          "s\t-11-12 02:00",
          "s\t-11-12 06:00",
          "s\t-11-12 10:00",
          "s\t-11-12 14:00",
          "s\t-11-12 18:00",
          "s\t-11-14 22:00",
          "s\t-11-15 02:00",
          "s\t-11-15 06:00",
          "s\t-11-15 10:00",
          "s\t-11-15 14:00",
          "s\t-11-15 18:00",
          "s\t-11-15 22:00",
          "s\t-11-16 02:00",
          "s\t-11-16 06:00",
          "s\t-11-16 10:00",
          "s\t-11-16 14:00",
          "s\t-11-16 18:00",
          "s\t-11-16 22:00",
          "s\t-11-17 02:00",
          "s\t-11-17 06:00",
          "s\t-11-17 10:00",
          "s\t-11-17 14:00",
          "s\t-11-17 18:00",
          "s\t-11-17 22:00",
          "s\t-11-18 02:00",
          "s\t-11-18 06:00",
          "s\t-11-18 10:00",
          "s\t-11-18 14:00",
          "s\t-11-18 18:00",
          "s\t-11-18 22:00",
          "s\t-11-19 02:00",
          "s\t-11-19 06:00"
         ]
        }
       ],
       "layout": {
        "font": {
         "color": "#e1e1e1",
         "size": 8
        },
        "height": 900,
        "margin": {
         "b": 10,
         "l": 10,
         "r": 10,
         "t": 10
        },
        "paper_bgcolor": "#2c303c",
        "plot_bgcolor": "#2c303c",
        "template": {
         "data": {
          "bar": [
           {
            "error_x": {
             "color": "#2a3f5f"
            },
            "error_y": {
             "color": "#2a3f5f"
            },
            "marker": {
             "line": {
              "color": "#E5ECF6",
              "width": 0.5
             },
             "pattern": {
              "fillmode": "overlay",
              "size": 10,
              "solidity": 0.2
             }
            },
            "type": "bar"
           }
          ],
          "barpolar": [
           {
            "marker": {
             "line": {
              "color": "#E5ECF6",
              "width": 0.5
             },
             "pattern": {
              "fillmode": "overlay",
              "size": 10,
              "solidity": 0.2
             }
            },
            "type": "barpolar"
           }
          ],
          "carpet": [
           {
            "aaxis": {
             "endlinecolor": "#2a3f5f",
             "gridcolor": "white",
             "linecolor": "white",
             "minorgridcolor": "white",
             "startlinecolor": "#2a3f5f"
            },
            "baxis": {
             "endlinecolor": "#2a3f5f",
             "gridcolor": "white",
             "linecolor": "white",
             "minorgridcolor": "white",
             "startlinecolor": "#2a3f5f"
            },
            "type": "carpet"
           }
          ],
          "choropleth": [
           {
            "colorbar": {
             "outlinewidth": 0,
             "ticks": ""
            },
            "type": "choropleth"
           }
          ],
          "contour": [
           {
            "colorbar": {
             "outlinewidth": 0,
             "ticks": ""
            },
            "colorscale": [
             [
              0,
              "#0d0887"
             ],
             [
              0.1111111111111111,
              "#46039f"
             ],
             [
              0.2222222222222222,
              "#7201a8"
             ],
             [
              0.3333333333333333,
              "#9c179e"
             ],
             [
              0.4444444444444444,
              "#bd3786"
             ],
             [
              0.5555555555555556,
              "#d8576b"
             ],
             [
              0.6666666666666666,
              "#ed7953"
             ],
             [
              0.7777777777777778,
              "#fb9f3a"
             ],
             [
              0.8888888888888888,
              "#fdca26"
             ],
             [
              1,
              "#f0f921"
             ]
            ],
            "type": "contour"
           }
          ],
          "contourcarpet": [
           {
            "colorbar": {
             "outlinewidth": 0,
             "ticks": ""
            },
            "type": "contourcarpet"
           }
          ],
          "heatmap": [
           {
            "colorbar": {
             "outlinewidth": 0,
             "ticks": ""
            },
            "colorscale": [
             [
              0,
              "#0d0887"
             ],
             [
              0.1111111111111111,
              "#46039f"
             ],
             [
              0.2222222222222222,
              "#7201a8"
             ],
             [
              0.3333333333333333,
              "#9c179e"
             ],
             [
              0.4444444444444444,
              "#bd3786"
             ],
             [
              0.5555555555555556,
              "#d8576b"
             ],
             [
              0.6666666666666666,
              "#ed7953"
             ],
             [
              0.7777777777777778,
              "#fb9f3a"
             ],
             [
              0.8888888888888888,
              "#fdca26"
             ],
             [
              1,
              "#f0f921"
             ]
            ],
            "type": "heatmap"
           }
          ],
          "heatmapgl": [
           {
            "colorbar": {
             "outlinewidth": 0,
             "ticks": ""
            },
            "colorscale": [
             [
              0,
              "#0d0887"
             ],
             [
              0.1111111111111111,
              "#46039f"
             ],
             [
              0.2222222222222222,
              "#7201a8"
             ],
             [
              0.3333333333333333,
              "#9c179e"
             ],
             [
              0.4444444444444444,
              "#bd3786"
             ],
             [
              0.5555555555555556,
              "#d8576b"
             ],
             [
              0.6666666666666666,
              "#ed7953"
             ],
             [
              0.7777777777777778,
              "#fb9f3a"
             ],
             [
              0.8888888888888888,
              "#fdca26"
             ],
             [
              1,
              "#f0f921"
             ]
            ],
            "type": "heatmapgl"
           }
          ],
          "histogram": [
           {
            "marker": {
             "pattern": {
              "fillmode": "overlay",
              "size": 10,
              "solidity": 0.2
             }
            },
            "type": "histogram"
           }
          ],
          "histogram2d": [
           {
            "colorbar": {
             "outlinewidth": 0,
             "ticks": ""
            },
            "colorscale": [
             [
              0,
              "#0d0887"
             ],
             [
              0.1111111111111111,
              "#46039f"
             ],
             [
              0.2222222222222222,
              "#7201a8"
             ],
             [
              0.3333333333333333,
              "#9c179e"
             ],
             [
              0.4444444444444444,
              "#bd3786"
             ],
             [
              0.5555555555555556,
              "#d8576b"
             ],
             [
              0.6666666666666666,
              "#ed7953"
             ],
             [
              0.7777777777777778,
              "#fb9f3a"
             ],
             [
              0.8888888888888888,
              "#fdca26"
             ],
             [
              1,
              "#f0f921"
             ]
            ],
            "type": "histogram2d"
           }
          ],
          "histogram2dcontour": [
           {
            "colorbar": {
             "outlinewidth": 0,
             "ticks": ""
            },
            "colorscale": [
             [
              0,
              "#0d0887"
             ],
             [
              0.1111111111111111,
              "#46039f"
             ],
             [
              0.2222222222222222,
              "#7201a8"
             ],
             [
              0.3333333333333333,
              "#9c179e"
             ],
             [
              0.4444444444444444,
              "#bd3786"
             ],
             [
              0.5555555555555556,
              "#d8576b"
             ],
             [
              0.6666666666666666,
              "#ed7953"
             ],
             [
              0.7777777777777778,
              "#fb9f3a"
             ],
             [
              0.8888888888888888,
              "#fdca26"
             ],
             [
              1,
              "#f0f921"
             ]
            ],
            "type": "histogram2dcontour"
           }
          ],
          "mesh3d": [
           {
            "colorbar": {
             "outlinewidth": 0,
             "ticks": ""
            },
            "type": "mesh3d"
           }
          ],
          "parcoords": [
           {
            "line": {
             "colorbar": {
              "outlinewidth": 0,
              "ticks": ""
             }
            },
            "type": "parcoords"
           }
          ],
          "pie": [
           {
            "automargin": true,
            "type": "pie"
           }
          ],
          "scatter": [
           {
            "fillpattern": {
             "fillmode": "overlay",
             "size": 10,
             "solidity": 0.2
            },
            "type": "scatter"
           }
          ],
          "scatter3d": [
           {
            "line": {
             "colorbar": {
              "outlinewidth": 0,
              "ticks": ""
             }
            },
            "marker": {
             "colorbar": {
              "outlinewidth": 0,
              "ticks": ""
             }
            },
            "type": "scatter3d"
           }
          ],
          "scattercarpet": [
           {
            "marker": {
             "colorbar": {
              "outlinewidth": 0,
              "ticks": ""
             }
            },
            "type": "scattercarpet"
           }
          ],
          "scattergeo": [
           {
            "marker": {
             "colorbar": {
              "outlinewidth": 0,
              "ticks": ""
             }
            },
            "type": "scattergeo"
           }
          ],
          "scattergl": [
           {
            "marker": {
             "colorbar": {
              "outlinewidth": 0,
              "ticks": ""
             }
            },
            "type": "scattergl"
           }
          ],
          "scattermapbox": [
           {
            "marker": {
             "colorbar": {
              "outlinewidth": 0,
              "ticks": ""
             }
            },
            "type": "scattermapbox"
           }
          ],
          "scatterpolar": [
           {
            "marker": {
             "colorbar": {
              "outlinewidth": 0,
              "ticks": ""
             }
            },
            "type": "scatterpolar"
           }
          ],
          "scatterpolargl": [
           {
            "marker": {
             "colorbar": {
              "outlinewidth": 0,
              "ticks": ""
             }
            },
            "type": "scatterpolargl"
           }
          ],
          "scatterternary": [
           {
            "marker": {
             "colorbar": {
              "outlinewidth": 0,
              "ticks": ""
             }
            },
            "type": "scatterternary"
           }
          ],
          "surface": [
           {
            "colorbar": {
             "outlinewidth": 0,
             "ticks": ""
            },
            "colorscale": [
             [
              0,
              "#0d0887"
             ],
             [
              0.1111111111111111,
              "#46039f"
             ],
             [
              0.2222222222222222,
              "#7201a8"
             ],
             [
              0.3333333333333333,
              "#9c179e"
             ],
             [
              0.4444444444444444,
              "#bd3786"
             ],
             [
              0.5555555555555556,
              "#d8576b"
             ],
             [
              0.6666666666666666,
              "#ed7953"
             ],
             [
              0.7777777777777778,
              "#fb9f3a"
             ],
             [
              0.8888888888888888,
              "#fdca26"
             ],
             [
              1,
              "#f0f921"
             ]
            ],
            "type": "surface"
           }
          ],
          "table": [
           {
            "cells": {
             "fill": {
              "color": "#EBF0F8"
             },
             "line": {
              "color": "white"
             }
            },
            "header": {
             "fill": {
              "color": "#C8D4E3"
             },
             "line": {
              "color": "white"
             }
            },
            "type": "table"
           }
          ]
         },
         "layout": {
          "annotationdefaults": {
           "arrowcolor": "#2a3f5f",
           "arrowhead": 0,
           "arrowwidth": 1
          },
          "autotypenumbers": "strict",
          "coloraxis": {
           "colorbar": {
            "outlinewidth": 0,
            "ticks": ""
           }
          },
          "colorscale": {
           "diverging": [
            [
             0,
             "#8e0152"
            ],
            [
             0.1,
             "#c51b7d"
            ],
            [
             0.2,
             "#de77ae"
            ],
            [
             0.3,
             "#f1b6da"
            ],
            [
             0.4,
             "#fde0ef"
            ],
            [
             0.5,
             "#f7f7f7"
            ],
            [
             0.6,
             "#e6f5d0"
            ],
            [
             0.7,
             "#b8e186"
            ],
            [
             0.8,
             "#7fbc41"
            ],
            [
             0.9,
             "#4d9221"
            ],
            [
             1,
             "#276419"
            ]
           ],
           "sequential": [
            [
             0,
             "#0d0887"
            ],
            [
             0.1111111111111111,
             "#46039f"
            ],
            [
             0.2222222222222222,
             "#7201a8"
            ],
            [
             0.3333333333333333,
             "#9c179e"
            ],
            [
             0.4444444444444444,
             "#bd3786"
            ],
            [
             0.5555555555555556,
             "#d8576b"
            ],
            [
             0.6666666666666666,
             "#ed7953"
            ],
            [
             0.7777777777777778,
             "#fb9f3a"
            ],
            [
             0.8888888888888888,
             "#fdca26"
            ],
            [
             1,
             "#f0f921"
            ]
           ],
           "sequentialminus": [
            [
             0,
             "#0d0887"
            ],
            [
             0.1111111111111111,
             "#46039f"
            ],
            [
             0.2222222222222222,
             "#7201a8"
            ],
            [
             0.3333333333333333,
             "#9c179e"
            ],
            [
             0.4444444444444444,
             "#bd3786"
            ],
            [
             0.5555555555555556,
             "#d8576b"
            ],
            [
             0.6666666666666666,
             "#ed7953"
            ],
            [
             0.7777777777777778,
             "#fb9f3a"
            ],
            [
             0.8888888888888888,
             "#fdca26"
            ],
            [
             1,
             "#f0f921"
            ]
           ]
          },
          "colorway": [
           "#636efa",
           "#EF553B",
           "#00cc96",
           "#ab63fa",
           "#FFA15A",
           "#19d3f3",
           "#FF6692",
           "#B6E880",
           "#FF97FF",
           "#FECB52"
          ],
          "font": {
           "color": "#2a3f5f"
          },
          "geo": {
           "bgcolor": "white",
           "lakecolor": "white",
           "landcolor": "#E5ECF6",
           "showlakes": true,
           "showland": true,
           "subunitcolor": "white"
          },
          "hoverlabel": {
           "align": "left"
          },
          "hovermode": "closest",
          "mapbox": {
           "style": "light"
          },
          "paper_bgcolor": "white",
          "plot_bgcolor": "#E5ECF6",
          "polar": {
           "angularaxis": {
            "gridcolor": "white",
            "linecolor": "white",
            "ticks": ""
           },
           "bgcolor": "#E5ECF6",
           "radialaxis": {
            "gridcolor": "white",
            "linecolor": "white",
            "ticks": ""
           }
          },
          "scene": {
           "xaxis": {
            "backgroundcolor": "#E5ECF6",
            "gridcolor": "white",
            "gridwidth": 2,
            "linecolor": "white",
            "showbackground": true,
            "ticks": "",
            "zerolinecolor": "white"
           },
           "yaxis": {
            "backgroundcolor": "#E5ECF6",
            "gridcolor": "white",
            "gridwidth": 2,
            "linecolor": "white",
            "showbackground": true,
            "ticks": "",
            "zerolinecolor": "white"
           },
           "zaxis": {
            "backgroundcolor": "#E5ECF6",
            "gridcolor": "white",
            "gridwidth": 2,
            "linecolor": "white",
            "showbackground": true,
            "ticks": "",
            "zerolinecolor": "white"
           }
          },
          "shapedefaults": {
           "line": {
            "color": "#2a3f5f"
           }
          },
          "ternary": {
           "aaxis": {
            "gridcolor": "white",
            "linecolor": "white",
            "ticks": ""
           },
           "baxis": {
            "gridcolor": "white",
            "linecolor": "white",
            "ticks": ""
           },
           "bgcolor": "#E5ECF6",
           "caxis": {
            "gridcolor": "white",
            "linecolor": "white",
            "ticks": ""
           }
          },
          "title": {
           "x": 0.05
          },
          "xaxis": {
           "automargin": true,
           "gridcolor": "white",
           "linecolor": "white",
           "ticks": "",
           "title": {
            "standoff": 15
           },
           "zerolinecolor": "white",
           "zerolinewidth": 2
          },
          "yaxis": {
           "automargin": true,
           "gridcolor": "white",
           "linecolor": "white",
           "ticks": "",
           "title": {
            "standoff": 15
           },
           "zerolinecolor": "white",
           "zerolinewidth": 2
          }
         }
        },
        "width": 1100,
        "xaxis": {
         "autorange": true,
         "gridcolor": "#1f292f",
         "nticks": 5,
         "range": [
          -0.5,
          99.5
         ],
         "rangeslider": {
          "visible": false,
          "yaxis": {}
         },
         "type": "category"
        },
        "yaxis": {
         "autorange": true,
         "gridcolor": "#1f292f",
         "range": [
          1.123988888888889,
          1.1716111111111112
         ]
        }
       }
      },
      "image/png": "[encoded data removed]",
      "text/html": [
       "<div>                            <div id=\"8ee3f663-6396-41c5-91e8-174e6993f295\" class=\"plotly-graph-div\" style=\"height:900px; width:1100px;\"></div>            <script type=\"text/javascript\">                require([\"plotly\"], function(Plotly) {                    window.PLOTLYENV=window.PLOTLYENV || {};                                    if (document.getElementById(\"8ee3f663-6396-41c5-91e8-174e6993f295\")) {                    Plotly.newPlot(                        \"8ee3f663-6396-41c5-91e8-174e6993f295\",                        [{\"close\":[1.16033,1.15927,1.16066,1.15902,1.163,1.16786,1.1683,1.16844,1.16644,1.16508,1.16256,1.15386,1.15619,1.1555,1.15516,1.15722,1.15776,1.1592,1.16062,1.1597,1.1604,1.15886,1.16072,1.1578,1.15799,1.158,1.15836,1.15856,1.15837,1.15827,1.16117,1.16125,1.15908,1.15528,1.15624,1.15439,1.15544,1.15515,1.15576,1.15494,1.15146,1.15636,1.15681,1.1555,1.156,1.15613,1.15687,1.1586,1.15872,1.15804,1.15997,1.15936,1.15962,1.15916,1.15944,1.15916,1.15776,1.15778,1.15532,1.15124,1.14778,1.14794,1.14793,1.14632,1.14598,1.14512,1.14493,1.14388,1.14439,1.14426,1.14458,1.14492,1.14433,1.14598,1.14601,1.14486,1.14458,1.13856,1.13676,1.1379,1.13772,1.1361,1.1362,1.13274,1.13204,1.1323,1.12992,1.13124,1.12991,1.13189,1.13189,1.13243,1.13182,1.13319,1.13348,1.13699,1.1373,1.13568,1.13528,1.12993],\"decreasing\":{\"fillcolor\":\"#CC2E3C\",\"line\":{\"color\":\"#FF3A4C\"}},\"high\":[1.16162,1.16051,1.16098,1.16145,1.16361,1.16923,1.16893,1.16902,1.16861,1.16758,1.16569,1.1636,1.15653,1.15652,1.15605,1.15754,1.15799,1.15941,1.1609,1.16064,1.16086,1.16136,1.16077,1.16077,1.15855,1.15822,1.15873,1.15893,1.1598,1.1586,1.16164,1.16166,1.16128,1.15921,1.1563,1.15732,1.15579,1.15564,1.15578,1.15631,1.15496,1.15667,1.15736,1.15699,1.15632,1.15762,1.15832,1.1595,1.15914,1.15908,1.16066,1.16064,1.15985,1.16089,1.15986,1.15956,1.15923,1.15824,1.15812,1.15745,1.15157,1.14876,1.14846,1.14851,1.1475,1.14772,1.14528,1.14532,1.14443,1.14561,1.14554,1.14623,1.1452,1.146,1.1464,1.14622,1.14566,1.14462,1.13901,1.13798,1.13858,1.13824,1.1375,1.13626,1.13344,1.13268,1.13242,1.1321,1.13322,1.13268,1.13266,1.13284,1.13381,1.13399,1.13484,1.1374,1.13742,1.13734,1.13583,1.13606],\"increasing\":{\"fillcolor\":\"#24A06B\",\"line\":{\"color\":\"#2EC886\"}},\"line\":{\"width\":1},\"low\":[1.15986,1.159,1.15894,1.15835,1.15823,1.16246,1.16712,1.16794,1.16639,1.16492,1.16211,1.15352,1.1538,1.15514,1.15461,1.15472,1.1562,1.15656,1.15885,1.15954,1.15951,1.15875,1.15859,1.15752,1.1577,1.1575,1.15775,1.15784,1.15774,1.15624,1.1572,1.16079,1.15908,1.15489,1.15426,1.15282,1.1543,1.15472,1.1541,1.15472,1.15134,1.15133,1.15482,1.1554,1.15534,1.15505,1.15552,1.1564,1.15829,1.15772,1.15796,1.15804,1.15698,1.15714,1.15872,1.15882,1.1577,1.1558,1.15322,1.15056,1.14762,1.14728,1.14648,1.1454,1.14542,1.14502,1.1443,1.1436,1.14363,1.14374,1.14374,1.1433,1.14416,1.14412,1.14552,1.14366,1.14394,1.13804,1.13564,1.13596,1.13756,1.13578,1.13515,1.13194,1.13089,1.131,1.12637,1.12956,1.1298,1.1293,1.13111,1.13157,1.13159,1.13138,1.1328,1.13269,1.1367,1.1356,1.1352,1.12829],\"opacity\":1,\"open\":[1.16088,1.16036,1.15926,1.16068,1.159,1.16303,1.16784,1.16831,1.16846,1.16643,1.16511,1.16258,1.15387,1.15596,1.15551,1.15518,1.15722,1.15775,1.15921,1.16042,1.15972,1.16038,1.15888,1.1607,1.15781,1.15788,1.15798,1.15838,1.15855,1.15836,1.15828,1.16122,1.16126,1.15908,1.1553,1.15625,1.1544,1.15536,1.15516,1.15574,1.15493,1.15143,1.15634,1.1559,1.15548,1.15602,1.15612,1.15688,1.1586,1.15872,1.15802,1.15997,1.15934,1.1596,1.15918,1.15952,1.15917,1.15775,1.15776,1.15534,1.15126,1.14788,1.14796,1.14793,1.1463,1.14596,1.14513,1.14524,1.1439,1.14439,1.14428,1.14456,1.1449,1.14486,1.146,1.14603,1.14484,1.14459,1.13854,1.13699,1.13791,1.13772,1.13612,1.13619,1.13276,1.13222,1.13232,1.12992,1.13126,1.12992,1.13191,1.132,1.13244,1.13182,1.13318,1.13347,1.13698,1.13692,1.13569,1.13526],\"x\":[\"s\\t-10-27 17:00\",\"s\\t-10-27 21:00\",\"s\\t-10-28 01:00\",\"s\\t-10-28 05:00\",\"s\\t-10-28 09:00\",\"s\\t-10-28 13:00\",\"s\\t-10-28 17:00\",\"s\\t-10-28 21:00\",\"s\\t-10-29 01:00\",\"s\\t-10-29 05:00\",\"s\\t-10-29 09:00\",\"s\\t-10-29 13:00\",\"s\\t-10-29 17:00\",\"s\\t-10-31 21:00\",\"s\\t-11-01 01:00\",\"s\\t-11-01 05:00\",\"s\\t-11-01 09:00\",\"s\\t-11-01 13:00\",\"s\\t-11-01 17:00\",\"s\\t-11-01 21:00\",\"s\\t-11-02 01:00\",\"s\\t-11-02 05:00\",\"s\\t-11-02 09:00\",\"s\\t-11-02 13:00\",\"s\\t-11-02 17:00\",\"s\\t-11-02 21:00\",\"s\\t-11-03 01:00\",\"s\\t-11-03 05:00\",\"s\\t-11-03 09:00\",\"s\\t-11-03 13:00\",\"s\\t-11-03 17:00\",\"s\\t-11-03 21:00\",\"s\\t-11-04 01:00\",\"s\\t-11-04 05:00\",\"s\\t-11-04 09:00\",\"s\\t-11-04 13:00\",\"s\\t-11-04 17:00\",\"s\\t-11-04 21:00\",\"s\\t-11-05 01:00\",\"s\\t-11-05 05:00\",\"s\\t-11-05 09:00\",\"s\\t-11-05 13:00\",\"s\\t-11-05 17:00\",\"s\\t-11-07 22:00\",\"s\\t-11-08 02:00\",\"s\\t-11-08 06:00\",\"s\\t-11-08 10:00\",\"s\\t-11-08 14:00\",\"s\\t-11-08 18:00\",\"s\\t-11-08 22:00\",\"s\\t-11-09 02:00\",\"s\\t-11-09 06:00\",\"s\\t-11-09 10:00\",\"s\\t-11-09 14:00\",\"s\\t-11-09 18:00\",\"s\\t-11-09 22:00\",\"s\\t-11-10 02:00\",\"s\\t-11-10 06:00\",\"s\\t-11-10 10:00\",\"s\\t-11-10 14:00\",\"s\\t-11-10 18:00\",\"s\\t-11-10 22:00\",\"s\\t-11-11 02:00\",\"s\\t-11-11 06:00\",\"s\\t-11-11 10:00\",\"s\\t-11-11 14:00\",\"s\\t-11-11 18:00\",\"s\\t-11-11 22:00\",\"s\\t-11-12 02:00\",\"s\\t-11-12 06:00\",\"s\\t-11-12 10:00\",\"s\\t-11-12 14:00\",\"s\\t-11-12 18:00\",\"s\\t-11-14 22:00\",\"s\\t-11-15 02:00\",\"s\\t-11-15 06:00\",\"s\\t-11-15 10:00\",\"s\\t-11-15 14:00\",\"s\\t-11-15 18:00\",\"s\\t-11-15 22:00\",\"s\\t-11-16 02:00\",\"s\\t-11-16 06:00\",\"s\\t-11-16 10:00\",\"s\\t-11-16 14:00\",\"s\\t-11-16 18:00\",\"s\\t-11-16 22:00\",\"s\\t-11-17 02:00\",\"s\\t-11-17 06:00\",\"s\\t-11-17 10:00\",\"s\\t-11-17 14:00\",\"s\\t-11-17 18:00\",\"s\\t-11-17 22:00\",\"s\\t-11-18 02:00\",\"s\\t-11-18 06:00\",\"s\\t-11-18 10:00\",\"s\\t-11-18 14:00\",\"s\\t-11-18 18:00\",\"s\\t-11-18 22:00\",\"s\\t-11-19 02:00\",\"s\\t-11-19 06:00\"],\"type\":\"candlestick\"}],                        {\"template\":{\"data\":{\"histogram2dcontour\":[{\"type\":\"histogram2dcontour\",\"colorbar\":{\"outlinewidth\":0,\"ticks\":\"\"},\"colorscale\":[[0.0,\"#0d0887\"],[0.1111111111111111,\"#46039f\"],[0.2222222222222222,\"#7201a8\"],[0.3333333333333333,\"#9c179e\"],[0.4444444444444444,\"#bd3786\"],[0.5555555555555556,\"#d8576b\"],[0.6666666666666666,\"#ed7953\"],[0.7777777777777778,\"#fb9f3a\"],[0.8888888888888888,\"#fdca26\"],[1.0,\"#f0f921\"]]}],\"choropleth\":[{\"type\":\"choropleth\",\"colorbar\":{\"outlinewidth\":0,\"ticks\":\"\"}}],\"histogram2d\":[{\"type\":\"histogram2d\",\"colorbar\":{\"outlinewidth\":0,\"ticks\":\"\"},\"colorscale\":[[0.0,\"#0d0887\"],[0.1111111111111111,\"#46039f\"],[0.2222222222222222,\"#7201a8\"],[0.3333333333333333,\"#9c179e\"],[0.4444444444444444,\"#bd3786\"],[0.5555555555555556,\"#d8576b\"],[0.6666666666666666,\"#ed7953\"],[0.7777777777777778,\"#fb9f3a\"],[0.8888888888888888,\"#fdca26\"],[1.0,\"#f0f921\"]]}],\"heatmap\":[{\"type\":\"heatmap\",\"colorbar\":{\"outlinewidth\":0,\"ticks\":\"\"},\"colorscale\":[[0.0,\"#0d0887\"],[0.1111111111111111,\"#46039f\"],[0.2222222222222222,\"#7201a8\"],[0.3333333333333333,\"#9c179e\"],[0.4444444444444444,\"#bd3786\"],[0.5555555555555556,\"#d8576b\"],[0.6666666666666666,\"#ed7953\"],[0.7777777777777778,\"#fb9f3a\"],[0.8888888888888888,\"#fdca26\"],[1.0,\"#f0f921\"]]}],\"heatmapgl\":[{\"type\":\"heatmapgl\",\"colorbar\":{\"outlinewidth\":0,\"ticks\":\"\"},\"colorscale\":[[0.0,\"#0d0887\"],[0.1111111111111111,\"#46039f\"],[0.2222222222222222,\"#7201a8\"],[0.3333333333333333,\"#9c179e\"],[0.4444444444444444,\"#bd3786\"],[0.5555555555555556,\"#d8576b\"],[0.6666666666666666,\"#ed7953\"],[0.7777777777777778,\"#fb9f3a\"],[0.8888888888888888,\"#fdca26\"],[1.0,\"#f0f921\"]]}],\"contourcarpet\":[{\"type\":\"contourcarpet\",\"colorbar\":{\"outlinewidth\":0,\"ticks\":\"\"}}],\"contour\":[{\"type\":\"contour\",\"colorbar\":{\"outlinewidth\":0,\"ticks\":\"\"},\"colorscale\":[[0.0,\"#0d0887\"],[0.1111111111111111,\"#46039f\"],[0.2222222222222222,\"#7201a8\"],[0.3333333333333333,\"#9c179e\"],[0.4444444444444444,\"#bd3786\"],[0.5555555555555556,\"#d8576b\"],[0.6666666666666666,\"#ed7953\"],[0.7777777777777778,\"#fb9f3a\"],[0.8888888888888888,\"#fdca26\"],[1.0,\"#f0f921\"]]}],\"surface\":[{\"type\":\"surface\",\"colorbar\":{\"outlinewidth\":0,\"ticks\":\"\"},\"colorscale\":[[0.0,\"#0d0887\"],[0.1111111111111111,\"#46039f\"],[0.2222222222222222,\"#7201a8\"],[0.3333333333333333,\"#9c179e\"],[0.4444444444444444,\"#bd3786\"],[0.5555555555555556,\"#d8576b\"],[0.6666666666666666,\"#ed7953\"],[0.7777777777777778,\"#fb9f3a\"],[0.8888888888888888,\"#fdca26\"],[1.0,\"#f0f921\"]]}],\"mesh3d\":[{\"type\":\"mesh3d\",\"colorbar\":{\"outlinewidth\":0,\"ticks\":\"\"}}],\"scatter\":[{\"fillpattern\":{\"fillmode\":\"overlay\",\"size\":10,\"solidity\":0.2},\"type\":\"scatter\"}],\"parcoords\":[{\"type\":\"parcoords\",\"line\":{\"colorbar\":{\"outlinewidth\":0,\"ticks\":\"\"}}}],\"scatterpolargl\":[{\"type\":\"scatterpolargl\",\"marker\":{\"colorbar\":{\"outlinewidth\":0,\"ticks\":\"\"}}}],\"bar\":[{\"error_x\":{\"color\":\"#2a3f5f\"},\"error_y\":{\"color\":\"#2a3f5f\"},\"marker\":{\"line\":{\"color\":\"#E5ECF6\",\"width\":0.5},\"pattern\":{\"fillmode\":\"overlay\",\"size\":10,\"solidity\":0.2}},\"type\":\"bar\"}],\"scattergeo\":[{\"type\":\"scattergeo\",\"marker\":{\"colorbar\":{\"outlinewidth\":0,\"ticks\":\"\"}}}],\"scatterpolar\":[{\"type\":\"scatterpolar\",\"marker\":{\"colorbar\":{\"outlinewidth\":0,\"ticks\":\"\"}}}],\"histogram\":[{\"marker\":{\"pattern\":{\"fillmode\":\"overlay\",\"size\":10,\"solidity\":0.2}},\"type\":\"histogram\"}],\"scattergl\":[{\"type\":\"scattergl\",\"marker\":{\"colorbar\":{\"outlinewidth\":0,\"ticks\":\"\"}}}],\"scatter3d\":[{\"type\":\"scatter3d\",\"line\":{\"colorbar\":{\"outlinewidth\":0,\"ticks\":\"\"}},\"marker\":{\"colorbar\":{\"outlinewidth\":0,\"ticks\":\"\"}}}],\"scattermapbox\":[{\"type\":\"scattermapbox\",\"marker\":{\"colorbar\":{\"outlinewidth\":0,\"ticks\":\"\"}}}],\"scatterternary\":[{\"type\":\"scatterternary\",\"marker\":{\"colorbar\":{\"outlinewidth\":0,\"ticks\":\"\"}}}],\"scattercarpet\":[{\"type\":\"scattercarpet\",\"marker\":{\"colorbar\":{\"outlinewidth\":0,\"ticks\":\"\"}}}],\"carpet\":[{\"aaxis\":{\"endlinecolor\":\"#2a3f5f\",\"gridcolor\":\"white\",\"linecolor\":\"white\",\"minorgridcolor\":\"white\",\"startlinecolor\":\"#2a3f5f\"},\"baxis\":{\"endlinecolor\":\"#2a3f5f\",\"gridcolor\":\"white\",\"linecolor\":\"white\",\"minorgridcolor\":\"white\",\"startlinecolor\":\"#2a3f5f\"},\"type\":\"carpet\"}],\"table\":[{\"cells\":{\"fill\":{\"color\":\"#EBF0F8\"},\"line\":{\"color\":\"white\"}},\"header\":{\"fill\":{\"color\":\"#C8D4E3\"},\"line\":{\"color\":\"white\"}},\"type\":\"table\"}],\"barpolar\":[{\"marker\":{\"line\":{\"color\":\"#E5ECF6\",\"width\":0.5},\"pattern\":{\"fillmode\":\"overlay\",\"size\":10,\"solidity\":0.2}},\"type\":\"barpolar\"}],\"pie\":[{\"automargin\":true,\"type\":\"pie\"}]},\"layout\":{\"autotypenumbers\":\"strict\",\"colorway\":[\"#636efa\",\"#EF553B\",\"#00cc96\",\"#ab63fa\",\"#FFA15A\",\"#19d3f3\",\"#FF6692\",\"#B6E880\",\"#FF97FF\",\"#FECB52\"],\"font\":{\"color\":\"#2a3f5f\"},\"hovermode\":\"closest\",\"hoverlabel\":{\"align\":\"left\"},\"paper_bgcolor\":\"white\",\"plot_bgcolor\":\"#E5ECF6\",\"polar\":{\"bgcolor\":\"#E5ECF6\",\"angularaxis\":{\"gridcolor\":\"white\",\"linecolor\":\"white\",\"ticks\":\"\"},\"radialaxis\":{\"gridcolor\":\"white\",\"linecolor\":\"white\",\"ticks\":\"\"}},\"ternary\":{\"bgcolor\":\"#E5ECF6\",\"aaxis\":{\"gridcolor\":\"white\",\"linecolor\":\"white\",\"ticks\":\"\"},\"baxis\":{\"gridcolor\":\"white\",\"linecolor\":\"white\",\"ticks\":\"\"},\"caxis\":{\"gridcolor\":\"white\",\"linecolor\":\"white\",\"ticks\":\"\"}},\"coloraxis\":{\"colorbar\":{\"outlinewidth\":0,\"ticks\":\"\"}},\"colorscale\":{\"sequential\":[[0.0,\"#0d0887\"],[0.1111111111111111,\"#46039f\"],[0.2222222222222222,\"#7201a8\"],[0.3333333333333333,\"#9c179e\"],[0.4444444444444444,\"#bd3786\"],[0.5555555555555556,\"#d8576b\"],[0.6666666666666666,\"#ed7953\"],[0.7777777777777778,\"#fb9f3a\"],[0.8888888888888888,\"#fdca26\"],[1.0,\"#f0f921\"]],\"sequentialminus\":[[0.0,\"#0d0887\"],[0.1111111111111111,\"#46039f\"],[0.2222222222222222,\"#7201a8\"],[0.3333333333333333,\"#9c179e\"],[0.4444444444444444,\"#bd3786\"],[0.5555555555555556,\"#d8576b\"],[0.6666666666666666,\"#ed7953\"],[0.7777777777777778,\"#fb9f3a\"],[0.8888888888888888,\"#fdca26\"],[1.0,\"#f0f921\"]],\"diverging\":[[0,\"#8e0152\"],[0.1,\"#c51b7d\"],[0.2,\"#de77ae\"],[0.3,\"#f1b6da\"],[0.4,\"#fde0ef\"],[0.5,\"#f7f7f7\"],[0.6,\"#e6f5d0\"],[0.7,\"#b8e186\"],[0.8,\"#7fbc41\"],[0.9,\"#4d9221\"],[1,\"#276419\"]]},\"xaxis\":{\"gridcolor\":\"white\",\"linecolor\":\"white\",\"ticks\":\"\",\"title\":{\"standoff\":15},\"zerolinecolor\":\"white\",\"automargin\":true,\"zerolinewidth\":2},\"yaxis\":{\"gridcolor\":\"white\",\"linecolor\":\"white\",\"ticks\":\"\",\"title\":{\"standoff\":15},\"zerolinecolor\":\"white\",\"automargin\":true,\"zerolinewidth\":2},\"scene\":{\"xaxis\":{\"backgroundcolor\":\"#E5ECF6\",\"gridcolor\":\"white\",\"linecolor\":\"white\",\"showbackground\":true,\"ticks\":\"\",\"zerolinecolor\":\"white\",\"gridwidth\":2},\"yaxis\":{\"backgroundcolor\":\"#E5ECF6\",\"gridcolor\":\"white\",\"linecolor\":\"white\",\"showbackground\":true,\"ticks\":\"\",\"zerolinecolor\":\"white\",\"gridwidth\":2},\"zaxis\":{\"backgroundcolor\":\"#E5ECF6\",\"gridcolor\":\"white\",\"linecolor\":\"white\",\"showbackground\":true,\"ticks\":\"\",\"zerolinecolor\":\"white\",\"gridwidth\":2}},\"shapedefaults\":{\"line\":{\"color\":\"#2a3f5f\"}},\"annotationdefaults\":{\"arrowcolor\":\"#2a3f5f\",\"arrowhead\":0,\"arrowwidth\":1},\"geo\":{\"bgcolor\":\"white\",\"landcolor\":\"#E5ECF6\",\"subunitcolor\":\"white\",\"showland\":true,\"showlakes\":true,\"lakecolor\":\"white\"},\"title\":{\"x\":0.05},\"mapbox\":{\"style\":\"light\"}}},\"yaxis\":{\"gridcolor\":\"#1f292f\"},\"xaxis\":{\"rangeslider\":{\"visible\":false},\"gridcolor\":\"#1f292f\",\"nticks\":5},\"margin\":{\"l\":10,\"r\":10,\"b\":10,\"t\":10},\"font\":{\"size\":8,\"color\":\"#e1e1e1\"},\"width\":1100,\"height\":900,\"paper_bgcolor\":\"#2c303c\",\"plot_bgcolor\":\"#2c303c\"},                        {\"responsive\": true}                    ).then(function(){\n",
       "                            \n",
       "var gd = document.getElementById('8ee3f663-6396-41c5-91e8-174e6993f295');\n",
       "var x = new MutationObserver(function (mutations, observer) {{\n",
       "        var display = window.getComputedStyle(gd).display;\n",
       "        if (!display || display === 'none') {{\n",
       "            console.log([gd, 'removed!']);\n",
       "            Plotly.purge(gd);\n",
       "            observer.disconnect();\n",
       "        }}\n",
       "}});\n",
       "\n",
       "// Listen for the removal of the full notebook cells\n",
       "var notebookContainer = gd.closest('#notebook-container');\n",
       "if (notebookContainer) {{\n",
       "    x.observe(notebookContainer, {childList: true});\n",
       "}}\n",
       "\n",
       "// Listen for the clearing of the current output cell\n",
       "var outputEl = gd.closest('.output');\n",
       "if (outputEl) {{\n",
       "    x.observe(outputEl, {childList: true});\n",
       "}}\n",
       "\n",
       "                        })                };                });            </script>        </div>"
      ]
     },
     "metadata": {},
     "output_type": "display_data"
    }
   ],
   "source": [
    "\n",
    "fig = go.Figure()\n",
    "fig.add_trace(go.Candlestick(\n",
    "    x=dt_plot.sTime,\n",
    "    open=dt_plot.mid_o,\n",
    "    high=dt_plot.mid_h,\n",
    "    low=dt_plot.mid_l,\n",
    "    close=dt_plot.mid_c,\n",
    "    line=dict(width=1),\n",
    "    opacity=1,\n",
    "    increasing_fillcolor='#24A06B',\n",
    "    decreasing_fillcolor='#CC2E3C',\n",
    "    increasing_line_color='#2EC886',\n",
    "    decreasing_line_color='#FF3A4C',\n",
    "    )\n",
    "        )\n",
    "\n",
    "fig.update_yaxes(\n",
    "    gridcolor= \"#1f292f\"\n",
    ")\n",
    "\n",
    "fig.update_xaxes(\n",
    "    gridcolor= \"#1f292f\",\n",
    "    rangeslider=dict(visible=False),\n",
    "    nticks=5\n",
    ")\n",
    "\n",
    "fig.update_layout(\n",
    "    width=1100,\n",
    "    height=900,\n",
    "    margin=dict(l=10,r=10,b=10,t=10),\n",
    "    paper_bgcolor= \"#2c303c\",\n",
    "    plot_bgcolor= \"#2c303c\",\n",
    "    font=dict(size=8,color='#e1e1e1')\n",
    ")"
   ]
  },
  {
   "cell_type": "code",
   "execution_count": null,
   "id": "e22e2128-9dd8-4185-b943-ca8e4f5685b0",
   "metadata": {},
   "outputs": [],
   "source": []
  }
 ],
 "metadata": {
  "kernelspec": {
   "display_name": "Python 3 (ipykernel)",
   "language": "python",
   "name": "python3"
  },
  "language_info": {
   "codemirror_mode": {
    "name": "ipython",
    "version": 3
   },
   "file_extension": ".py",
   "mimetype": "text/x-python",
   "name": "python",
   "nbconvert_exporter": "python",
   "pygments_lexer": "ipython3",
   "version": "3.12.3"
  }
 },
 "nbformat": 4,
 "nbformat_minor": 5
}
