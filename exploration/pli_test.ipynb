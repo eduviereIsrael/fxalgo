{
 "cells": [
  {
   "cell_type": "code",
   "execution_count": 2,
   "id": "436e5e46-0970-4293-94f2-84a61f98dae4",
   "metadata": {},
   "outputs": [],
   "source": [
    "import pandas as pd\n",
    "import plotly.graph_objects as go\n",
    "import datetime as dt\n",
    "from plotting import CandlePlot"
   ]
  },
  {
   "cell_type": "code",
   "execution_count": 3,
   "id": "b374ea46-8e46-4aa8-8cb7-102fa0446871",
   "metadata": {},
   "outputs": [],
   "source": [
    "pair = \"EUR_USD\"\n",
    "granularity = \"H4\"\n",
    "df = pd.read_pickle(f\"../data/{pair}_{granularity}.pkl\")"
   ]
  },
  {
   "cell_type": "code",
   "execution_count": 4,
   "id": "d1b6f79e-e596-4261-ba17-ad2089b7c20d",
   "metadata": {},
   "outputs": [],
   "source": [
    "df['sTime'] =[dt.datetime.strftime(x, \"s%y-%m-%d %H:%M\") for x in df.time ]"
   ]
  },
  {
   "cell_type": "code",
   "execution_count": 9,
   "id": "4b4c6e23-b4e6-44ed-a7a9-d3e822765c0b",
   "metadata": {},
   "outputs": [],
   "source": [
    "df_plot = df.iloc[:100]"
   ]
  },
  {
   "cell_type": "code",
   "execution_count": 10,
   "id": "4e123d5a-9508-4f47-b72b-796c7345ca4e",
   "metadata": {},
   "outputs": [
    {
     "data": {
      "text/plain": [
       "(100, 15)"
      ]
     },
     "execution_count": 10,
     "metadata": {},
     "output_type": "execute_result"
    }
   ],
   "source": [
    "df_plot.shape"
   ]
  },
  {
   "cell_type": "code",
   "execution_count": 11,
   "id": "566f3520-7743-4b54-a2e2-e2bf6f18ece4",
   "metadata": {},
   "outputs": [],
   "source": [
    "cp = CandlePlot(df_plot)"
   ]
  },
  {
   "cell_type": "code",
   "execution_count": 12,
   "id": "4ef0501a-85b0-4af9-abde-8a247d2361ff",
   "metadata": {},
   "outputs": [
    {
     "ename": "AttributeError",
     "evalue": "'CandlePlot' object has no attribute 'df_plot'",
     "output_type": "error",
     "traceback": [
      "\u001b[1;31m---------------------------------------------------------------------------\u001b[0m",
      "\u001b[1;31mAttributeError\u001b[0m                            Traceback (most recent call last)",
      "Cell \u001b[1;32mIn[12], line 2\u001b[0m\n\u001b[0;32m      1\u001b[0m cp\u001b[38;5;241m.\u001b[39mfig\u001b[38;5;241m.\u001b[39madd_trace(go\u001b[38;5;241m.\u001b[39mScatter(\n\u001b[1;32m----> 2\u001b[0m     x\u001b[38;5;241m=\u001b[39m\u001b[43mcp\u001b[49m\u001b[38;5;241;43m.\u001b[39;49m\u001b[43mdf_plot\u001b[49m\u001b[38;5;241m.\u001b[39msTime,\n\u001b[0;32m      3\u001b[0m     y\u001b[38;5;241m=\u001b[39mcp\u001b[38;5;241m.\u001b[39mdf_plot\u001b[38;5;241m.\u001b[39mMA_10,\n\u001b[0;32m      4\u001b[0m     line\u001b[38;5;241m=\u001b[39m\u001b[38;5;28mdict\u001b[39m(width\u001b[38;5;241m=\u001b[39m\u001b[38;5;241m2\u001b[39m),\n\u001b[0;32m      5\u001b[0m     line_shape\u001b[38;5;241m=\u001b[39m\u001b[38;5;124m\"\u001b[39m\u001b[38;5;124mspline\u001b[39m\u001b[38;5;124m\"\u001b[39m,\n\u001b[0;32m      6\u001b[0m     name\u001b[38;5;241m=\u001b[39m\u001b[38;5;124m\"\u001b[39m\u001b[38;5;124mMA_10\u001b[39m\u001b[38;5;124m\"\u001b[39m\n\u001b[0;32m      7\u001b[0m ))\n\u001b[0;32m      8\u001b[0m cp\u001b[38;5;241m.\u001b[39mshow_plot()\n",
      "\u001b[1;31mAttributeError\u001b[0m: 'CandlePlot' object has no attribute 'df_plot'"
     ]
    }
   ],
   "source": [
    "cp.fig.add_trace(go.Scatter(\n",
    "    x=cp.df_plot.sTime,\n",
    "    y=cp.df_plot.MA_10,\n",
    "    line=dict(width=2),\n",
    "    line_shape=\"spline\",\n",
    "    name=\"MA_10\"\n",
    "))\n",
    "cp.show_plot()"
   ]
  },
  {
   "cell_type": "code",
   "execution_count": null,
   "id": "3f88cbd9-aa86-4a8a-a815-a76f830d5a34",
   "metadata": {},
   "outputs": [],
   "source": []
  }
 ],
 "metadata": {
  "kernelspec": {
   "display_name": "Python 3 (ipykernel)",
   "language": "python",
   "name": "python3"
  },
  "language_info": {
   "codemirror_mode": {
    "name": "ipython",
    "version": 3
   },
   "file_extension": ".py",
   "mimetype": "text/x-python",
   "name": "python",
   "nbconvert_exporter": "python",
   "pygments_lexer": "ipython3",
   "version": "3.12.3"
  }
 },
 "nbformat": 4,
 "nbformat_minor": 5
}
