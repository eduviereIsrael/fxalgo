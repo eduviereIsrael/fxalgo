{
 "cells": [
  {
   "cell_type": "code",
   "execution_count": 2,
   "id": "436e5e46-0970-4293-94f2-84a61f98dae4",
   "metadata": {},
   "outputs": [],
   "source": [
    "import pandas as pd\n",
    "import plotly.graph_objects as go\n",
    "import datetime as dt"
   ]
  },
  {
   "cell_type": "code",
   "execution_count": 4,
   "id": "b374ea46-8e46-4aa8-8cb7-102fa0446871",
   "metadata": {},
   "outputs": [],
   "source": [
    "pair = \"EUR_USD\"\n",
    "granularity = \"H4\"\n",
    "df = pd.read_pickle(f\"../data/{pair}_{granularity}.pkl\")"
   ]
  },
  {
   "cell_type": "code",
   "execution_count": 39,
   "id": "090f840b-27aa-4cef-89b8-c0502348bb88",
   "metadata": {},
   "outputs": [
    {
     "data": {
      "text/html": [
       "<div>\n",
       "<style scoped>\n",
       "    .dataframe tbody tr th:only-of-type {\n",
       "        vertical-align: middle;\n",
       "    }\n",
       "\n",
       "    .dataframe tbody tr th {\n",
       "        vertical-align: top;\n",
       "    }\n",
       "\n",
       "    .dataframe thead th {\n",
       "        text-align: right;\n",
       "    }\n",
       "</style>\n",
       "<table border=\"1\" class=\"dataframe\">\n",
       "  <thead>\n",
       "    <tr style=\"text-align: right;\">\n",
       "      <th></th>\n",
       "      <th>time</th>\n",
       "      <th>volume</th>\n",
       "      <th>mid_o</th>\n",
       "      <th>mid_h</th>\n",
       "      <th>mid_l</th>\n",
       "      <th>mid_c</th>\n",
       "      <th>bid_o</th>\n",
       "      <th>bid_h</th>\n",
       "      <th>bid_l</th>\n",
       "      <th>bid_c</th>\n",
       "      <th>ask_o</th>\n",
       "      <th>ask_h</th>\n",
       "      <th>ask_l</th>\n",
       "      <th>ask_c</th>\n",
       "      <th>sTime</th>\n",
       "    </tr>\n",
       "  </thead>\n",
       "  <tbody>\n",
       "    <tr>\n",
       "      <th>3995</th>\n",
       "      <td>2024-06-11 01:00:00+00:00</td>\n",
       "      <td>4977</td>\n",
       "      <td>1.07638</td>\n",
       "      <td>1.07706</td>\n",
       "      <td>1.07624</td>\n",
       "      <td>1.07684</td>\n",
       "      <td>1.07630</td>\n",
       "      <td>1.07699</td>\n",
       "      <td>1.07616</td>\n",
       "      <td>1.07677</td>\n",
       "      <td>1.07645</td>\n",
       "      <td>1.07713</td>\n",
       "      <td>1.07631</td>\n",
       "      <td>1.07692</td>\n",
       "      <td>s24-06-11 01:00</td>\n",
       "    </tr>\n",
       "    <tr>\n",
       "      <th>3996</th>\n",
       "      <td>2024-06-11 05:00:00+00:00</td>\n",
       "      <td>10231</td>\n",
       "      <td>1.07685</td>\n",
       "      <td>1.07736</td>\n",
       "      <td>1.07436</td>\n",
       "      <td>1.07454</td>\n",
       "      <td>1.07678</td>\n",
       "      <td>1.07729</td>\n",
       "      <td>1.07429</td>\n",
       "      <td>1.07447</td>\n",
       "      <td>1.07692</td>\n",
       "      <td>1.07743</td>\n",
       "      <td>1.07443</td>\n",
       "      <td>1.07461</td>\n",
       "      <td>s24-06-11 05:00</td>\n",
       "    </tr>\n",
       "    <tr>\n",
       "      <th>3997</th>\n",
       "      <td>2024-06-11 09:00:00+00:00</td>\n",
       "      <td>15446</td>\n",
       "      <td>1.07452</td>\n",
       "      <td>1.07566</td>\n",
       "      <td>1.07238</td>\n",
       "      <td>1.07323</td>\n",
       "      <td>1.07445</td>\n",
       "      <td>1.07558</td>\n",
       "      <td>1.07230</td>\n",
       "      <td>1.07316</td>\n",
       "      <td>1.07460</td>\n",
       "      <td>1.07573</td>\n",
       "      <td>1.07245</td>\n",
       "      <td>1.07330</td>\n",
       "      <td>s24-06-11 09:00</td>\n",
       "    </tr>\n",
       "    <tr>\n",
       "      <th>3998</th>\n",
       "      <td>2024-06-11 13:00:00+00:00</td>\n",
       "      <td>13828</td>\n",
       "      <td>1.07325</td>\n",
       "      <td>1.07390</td>\n",
       "      <td>1.07196</td>\n",
       "      <td>1.07375</td>\n",
       "      <td>1.07318</td>\n",
       "      <td>1.07383</td>\n",
       "      <td>1.07189</td>\n",
       "      <td>1.07367</td>\n",
       "      <td>1.07332</td>\n",
       "      <td>1.07397</td>\n",
       "      <td>1.07203</td>\n",
       "      <td>1.07383</td>\n",
       "      <td>s24-06-11 13:00</td>\n",
       "    </tr>\n",
       "    <tr>\n",
       "      <th>3999</th>\n",
       "      <td>2024-06-11 17:00:00+00:00</td>\n",
       "      <td>6394</td>\n",
       "      <td>1.07376</td>\n",
       "      <td>1.07495</td>\n",
       "      <td>1.07368</td>\n",
       "      <td>1.07406</td>\n",
       "      <td>1.07368</td>\n",
       "      <td>1.07488</td>\n",
       "      <td>1.07360</td>\n",
       "      <td>1.07398</td>\n",
       "      <td>1.07383</td>\n",
       "      <td>1.07502</td>\n",
       "      <td>1.07375</td>\n",
       "      <td>1.07413</td>\n",
       "      <td>s24-06-11 17:00</td>\n",
       "    </tr>\n",
       "  </tbody>\n",
       "</table>\n",
       "</div>"
      ],
      "text/plain": [
       "                          time  volume    mid_o    mid_h    mid_l    mid_c  \\\n",
       "3995 2024-06-11 01:00:00+00:00    4977  1.07638  1.07706  1.07624  1.07684   \n",
       "3996 2024-06-11 05:00:00+00:00   10231  1.07685  1.07736  1.07436  1.07454   \n",
       "3997 2024-06-11 09:00:00+00:00   15446  1.07452  1.07566  1.07238  1.07323   \n",
       "3998 2024-06-11 13:00:00+00:00   13828  1.07325  1.07390  1.07196  1.07375   \n",
       "3999 2024-06-11 17:00:00+00:00    6394  1.07376  1.07495  1.07368  1.07406   \n",
       "\n",
       "        bid_o    bid_h    bid_l    bid_c    ask_o    ask_h    ask_l    ask_c  \\\n",
       "3995  1.07630  1.07699  1.07616  1.07677  1.07645  1.07713  1.07631  1.07692   \n",
       "3996  1.07678  1.07729  1.07429  1.07447  1.07692  1.07743  1.07443  1.07461   \n",
       "3997  1.07445  1.07558  1.07230  1.07316  1.07460  1.07573  1.07245  1.07330   \n",
       "3998  1.07318  1.07383  1.07189  1.07367  1.07332  1.07397  1.07203  1.07383   \n",
       "3999  1.07368  1.07488  1.07360  1.07398  1.07383  1.07502  1.07375  1.07413   \n",
       "\n",
       "                sTime  \n",
       "3995  s24-06-11 01:00  \n",
       "3996  s24-06-11 05:00  \n",
       "3997  s24-06-11 09:00  \n",
       "3998  s24-06-11 13:00  \n",
       "3999  s24-06-11 17:00  "
      ]
     },
     "execution_count": 39,
     "metadata": {},
     "output_type": "execute_result"
    }
   ],
   "source": [
    "df.tail()"
   ]
  },
  {
   "cell_type": "code",
   "execution_count": 38,
   "id": "d1b6f79e-e596-4261-ba17-ad2089b7c20d",
   "metadata": {},
   "outputs": [],
   "source": [
    "df['sTime'] =[dt.datetime.strftime(x, \"s%y-%m-%d %H:%M\") for x in df.time ]"
   ]
  },
  {
   "cell_type": "code",
   "execution_count": 40,
   "id": "4b4c6e23-b4e6-44ed-a7a9-d3e822765c0b",
   "metadata": {},
   "outputs": [],
   "source": [
    "df_plot = df.iloc[:100]"
   ]
  },
  {
   "cell_type": "code",
   "execution_count": 42,
   "id": "da1cab68-7b87-4377-8177-451c25f592fd",
   "metadata": {},
   "outputs": [
    {
     "data": {
      "application/vnd.plotly.v1+json": {
       "config": {
        "plotlyServerURL": "https://plot.ly"
       },
       "data": [
        {
         "close": [
          1.13124,
          1.12991,
          1.13189,
          1.13189,
          1.13243,
          1.13182,
          1.13319,
          1.13348,
          1.13699,
          1.1373,
          1.13568,
          1.13528,
          1.12993,
          1.1288,
          1.12984,
          1.12819,
          1.12728,
          1.12776,
          1.12802,
          1.12803,
          1.12486,
          1.12344,
          1.12376,
          1.12342,
          1.12593,
          1.1252,
          1.12544,
          1.12492,
          1.12396,
          1.12394,
          1.1208,
          1.12067,
          1.11958,
          1.12008,
          1.12074,
          1.12127,
          1.12232,
          1.12188,
          1.12095,
          1.12092,
          1.1218,
          1.12238,
          1.12647,
          1.1293,
          1.13036,
          1.13102,
          1.12842,
          1.12782,
          1.12861,
          1.12623,
          1.12682,
          1.12925,
          1.12942,
          1.13115,
          1.13636,
          1.13662,
          1.13113,
          1.13392,
          1.13204,
          1.1337,
          1.13256,
          1.13374,
          1.13237,
          1.132,
          1.1328,
          1.13182,
          1.13243,
          1.13342,
          1.13026,
          1.1301,
          1.12989,
          1.12994,
          1.12976,
          1.13102,
          1.13108,
          1.13109,
          1.12942,
          1.12822,
          1.12974,
          1.12971,
          1.12788,
          1.12857,
          1.1282,
          1.12872,
          1.12748,
          1.12402,
          1.1244,
          1.12686,
          1.12792,
          1.12936,
          1.12851,
          1.13164,
          1.13486,
          1.13433,
          1.13344,
          1.1327,
          1.13192,
          1.13167,
          1.12899,
          1.12933
         ],
         "decreasing": {
          "fillcolor": "#CC2E3C",
          "line": {
           "color": "#FF3A4C"
          }
         },
         "high": [
          1.1321,
          1.13322,
          1.13268,
          1.13266,
          1.13284,
          1.13381,
          1.13399,
          1.13484,
          1.1374,
          1.13742,
          1.13734,
          1.13583,
          1.13606,
          1.13052,
          1.13222,
          1.13029,
          1.12898,
          1.12789,
          1.12879,
          1.12905,
          1.12801,
          1.125,
          1.1244,
          1.12414,
          1.12751,
          1.12691,
          1.12714,
          1.12552,
          1.12536,
          1.1245,
          1.12554,
          1.12203,
          1.12162,
          1.12056,
          1.12124,
          1.12184,
          1.12264,
          1.12298,
          1.12222,
          1.12124,
          1.1225,
          1.12278,
          1.1279,
          1.1297,
          1.13214,
          1.13343,
          1.13163,
          1.12852,
          1.12905,
          1.12948,
          1.12757,
          1.1293,
          1.13006,
          1.13132,
          1.13666,
          1.13728,
          1.1383,
          1.13456,
          1.13428,
          1.13373,
          1.13598,
          1.13406,
          1.13578,
          1.133,
          1.13284,
          1.13392,
          1.13276,
          1.13478,
          1.13474,
          1.13082,
          1.13078,
          1.13024,
          1.12999,
          1.13338,
          1.13144,
          1.13272,
          1.13133,
          1.12966,
          1.12998,
          1.13102,
          1.1308,
          1.12862,
          1.12872,
          1.12929,
          1.12984,
          1.12782,
          1.12549,
          1.12738,
          1.12816,
          1.12958,
          1.12955,
          1.13177,
          1.13495,
          1.13548,
          1.13462,
          1.1337,
          1.13338,
          1.13237,
          1.13196,
          1.12958
         ],
         "increasing": {
          "fillcolor": "#24A06B",
          "line": {
           "color": "#2EC886"
          }
         },
         "line": {
          "width": 1
         },
         "low": [
          1.12956,
          1.1298,
          1.1293,
          1.13111,
          1.13157,
          1.13159,
          1.13138,
          1.1328,
          1.13269,
          1.1367,
          1.1356,
          1.1352,
          1.12829,
          1.12498,
          1.12878,
          1.12808,
          1.1265,
          1.1265,
          1.126,
          1.12654,
          1.12362,
          1.12308,
          1.12366,
          1.1226,
          1.12322,
          1.12342,
          1.12402,
          1.12462,
          1.1239,
          1.12326,
          1.12053,
          1.11922,
          1.11862,
          1.11884,
          1.11988,
          1.12066,
          1.1212,
          1.1215,
          1.12062,
          1.12058,
          1.12062,
          1.12125,
          1.12208,
          1.12582,
          1.12828,
          1.12994,
          1.12808,
          1.12728,
          1.12602,
          1.12618,
          1.12584,
          1.12656,
          1.12848,
          1.12927,
          1.13076,
          1.13414,
          1.1235,
          1.13078,
          1.13183,
          1.13164,
          1.13026,
          1.13106,
          1.13153,
          1.13091,
          1.13142,
          1.13168,
          1.13074,
          1.13228,
          1.12957,
          1.12953,
          1.12907,
          1.12926,
          1.12818,
          1.12882,
          1.12666,
          1.13014,
          1.12886,
          1.1282,
          1.12748,
          1.1285,
          1.12664,
          1.12726,
          1.12758,
          1.12808,
          1.12536,
          1.12274,
          1.12353,
          1.12418,
          1.12667,
          1.12793,
          1.12787,
          1.12666,
          1.13004,
          1.13421,
          1.13329,
          1.13268,
          1.13154,
          1.1307,
          1.12784,
          1.12824
         ],
         "opacity": 1,
         "open": [
          1.12992,
          1.13126,
          1.12992,
          1.13191,
          1.132,
          1.13244,
          1.13182,
          1.13318,
          1.13347,
          1.13698,
          1.13692,
          1.13569,
          1.13526,
          1.12994,
          1.12882,
          1.12985,
          1.12814,
          1.12726,
          1.12775,
          1.12801,
          1.12801,
          1.12485,
          1.12374,
          1.12374,
          1.12343,
          1.12594,
          1.12519,
          1.12542,
          1.12479,
          1.12394,
          1.12396,
          1.12081,
          1.12068,
          1.11956,
          1.11988,
          1.12072,
          1.12126,
          1.1223,
          1.1219,
          1.12098,
          1.1208,
          1.12178,
          1.1224,
          1.12646,
          1.12928,
          1.13036,
          1.13026,
          1.12843,
          1.1278,
          1.1286,
          1.12624,
          1.1268,
          1.12918,
          1.12941,
          1.13114,
          1.13638,
          1.13661,
          1.13115,
          1.13398,
          1.13206,
          1.13372,
          1.13255,
          1.13375,
          1.13235,
          1.13188,
          1.13278,
          1.13183,
          1.13244,
          1.1334,
          1.13024,
          1.1301,
          1.12988,
          1.12992,
          1.12974,
          1.131,
          1.13108,
          1.1303,
          1.12941,
          1.12824,
          1.12972,
          1.12969,
          1.12789,
          1.12859,
          1.12822,
          1.12874,
          1.12746,
          1.12404,
          1.12439,
          1.12674,
          1.12793,
          1.12935,
          1.1285,
          1.13165,
          1.13484,
          1.13445,
          1.13345,
          1.13268,
          1.1319,
          1.13166,
          1.129
         ],
         "type": "candlestick",
         "x": [
          "s21-11-17 06:00",
          "s21-11-17 10:00",
          "s21-11-17 14:00",
          "s21-11-17 18:00",
          "s21-11-17 22:00",
          "s21-11-18 02:00",
          "s21-11-18 06:00",
          "s21-11-18 10:00",
          "s21-11-18 14:00",
          "s21-11-18 18:00",
          "s21-11-18 22:00",
          "s21-11-19 02:00",
          "s21-11-19 06:00",
          "s21-11-19 10:00",
          "s21-11-19 14:00",
          "s21-11-19 18:00",
          "s21-11-21 22:00",
          "s21-11-22 02:00",
          "s21-11-22 06:00",
          "s21-11-22 10:00",
          "s21-11-22 14:00",
          "s21-11-22 18:00",
          "s21-11-22 22:00",
          "s21-11-23 02:00",
          "s21-11-23 06:00",
          "s21-11-23 10:00",
          "s21-11-23 14:00",
          "s21-11-23 18:00",
          "s21-11-23 22:00",
          "s21-11-24 02:00",
          "s21-11-24 06:00",
          "s21-11-24 10:00",
          "s21-11-24 14:00",
          "s21-11-24 18:00",
          "s21-11-24 22:00",
          "s21-11-25 02:00",
          "s21-11-25 06:00",
          "s21-11-25 10:00",
          "s21-11-25 14:00",
          "s21-11-25 18:00",
          "s21-11-25 22:00",
          "s21-11-26 02:00",
          "s21-11-26 06:00",
          "s21-11-26 10:00",
          "s21-11-26 14:00",
          "s21-11-26 18:00",
          "s21-11-28 22:00",
          "s21-11-29 02:00",
          "s21-11-29 06:00",
          "s21-11-29 10:00",
          "s21-11-29 14:00",
          "s21-11-29 18:00",
          "s21-11-29 22:00",
          "s21-11-30 02:00",
          "s21-11-30 06:00",
          "s21-11-30 10:00",
          "s21-11-30 14:00",
          "s21-11-30 18:00",
          "s21-11-30 22:00",
          "s21-12-01 02:00",
          "s21-12-01 06:00",
          "s21-12-01 10:00",
          "s21-12-01 14:00",
          "s21-12-01 18:00",
          "s21-12-01 22:00",
          "s21-12-02 02:00",
          "s21-12-02 06:00",
          "s21-12-02 10:00",
          "s21-12-02 14:00",
          "s21-12-02 18:00",
          "s21-12-02 22:00",
          "s21-12-03 02:00",
          "s21-12-03 06:00",
          "s21-12-03 10:00",
          "s21-12-03 14:00",
          "s21-12-03 18:00",
          "s21-12-05 22:00",
          "s21-12-06 02:00",
          "s21-12-06 06:00",
          "s21-12-06 10:00",
          "s21-12-06 14:00",
          "s21-12-06 18:00",
          "s21-12-06 22:00",
          "s21-12-07 02:00",
          "s21-12-07 06:00",
          "s21-12-07 10:00",
          "s21-12-07 14:00",
          "s21-12-07 18:00",
          "s21-12-07 22:00",
          "s21-12-08 02:00",
          "s21-12-08 06:00",
          "s21-12-08 10:00",
          "s21-12-08 14:00",
          "s21-12-08 18:00",
          "s21-12-08 22:00",
          "s21-12-09 02:00",
          "s21-12-09 06:00",
          "s21-12-09 10:00",
          "s21-12-09 14:00",
          "s21-12-09 18:00"
         ]
        }
       ],
       "layout": {
        "dragmode": "pan",
        "font": {
         "color": "#e1e1e1",
         "size": 8
        },
        "height": 600,
        "margin": {
         "b": 10,
         "l": 10,
         "r": 10,
         "t": 10
        },
        "paper_bgcolor": "#2c303c",
        "plot_bgcolor": "#2c303c",
        "template": {
         "data": {
          "bar": [
           {
            "error_x": {
             "color": "#2a3f5f"
            },
            "error_y": {
             "color": "#2a3f5f"
            },
            "marker": {
             "line": {
              "color": "#E5ECF6",
              "width": 0.5
             },
             "pattern": {
              "fillmode": "overlay",
              "size": 10,
              "solidity": 0.2
             }
            },
            "type": "bar"
           }
          ],
          "barpolar": [
           {
            "marker": {
             "line": {
              "color": "#E5ECF6",
              "width": 0.5
             },
             "pattern": {
              "fillmode": "overlay",
              "size": 10,
              "solidity": 0.2
             }
            },
            "type": "barpolar"
           }
          ],
          "carpet": [
           {
            "aaxis": {
             "endlinecolor": "#2a3f5f",
             "gridcolor": "white",
             "linecolor": "white",
             "minorgridcolor": "white",
             "startlinecolor": "#2a3f5f"
            },
            "baxis": {
             "endlinecolor": "#2a3f5f",
             "gridcolor": "white",
             "linecolor": "white",
             "minorgridcolor": "white",
             "startlinecolor": "#2a3f5f"
            },
            "type": "carpet"
           }
          ],
          "choropleth": [
           {
            "colorbar": {
             "outlinewidth": 0,
             "ticks": ""
            },
            "type": "choropleth"
           }
          ],
          "contour": [
           {
            "colorbar": {
             "outlinewidth": 0,
             "ticks": ""
            },
            "colorscale": [
             [
              0,
              "#0d0887"
             ],
             [
              0.1111111111111111,
              "#46039f"
             ],
             [
              0.2222222222222222,
              "#7201a8"
             ],
             [
              0.3333333333333333,
              "#9c179e"
             ],
             [
              0.4444444444444444,
              "#bd3786"
             ],
             [
              0.5555555555555556,
              "#d8576b"
             ],
             [
              0.6666666666666666,
              "#ed7953"
             ],
             [
              0.7777777777777778,
              "#fb9f3a"
             ],
             [
              0.8888888888888888,
              "#fdca26"
             ],
             [
              1,
              "#f0f921"
             ]
            ],
            "type": "contour"
           }
          ],
          "contourcarpet": [
           {
            "colorbar": {
             "outlinewidth": 0,
             "ticks": ""
            },
            "type": "contourcarpet"
           }
          ],
          "heatmap": [
           {
            "colorbar": {
             "outlinewidth": 0,
             "ticks": ""
            },
            "colorscale": [
             [
              0,
              "#0d0887"
             ],
             [
              0.1111111111111111,
              "#46039f"
             ],
             [
              0.2222222222222222,
              "#7201a8"
             ],
             [
              0.3333333333333333,
              "#9c179e"
             ],
             [
              0.4444444444444444,
              "#bd3786"
             ],
             [
              0.5555555555555556,
              "#d8576b"
             ],
             [
              0.6666666666666666,
              "#ed7953"
             ],
             [
              0.7777777777777778,
              "#fb9f3a"
             ],
             [
              0.8888888888888888,
              "#fdca26"
             ],
             [
              1,
              "#f0f921"
             ]
            ],
            "type": "heatmap"
           }
          ],
          "heatmapgl": [
           {
            "colorbar": {
             "outlinewidth": 0,
             "ticks": ""
            },
            "colorscale": [
             [
              0,
              "#0d0887"
             ],
             [
              0.1111111111111111,
              "#46039f"
             ],
             [
              0.2222222222222222,
              "#7201a8"
             ],
             [
              0.3333333333333333,
              "#9c179e"
             ],
             [
              0.4444444444444444,
              "#bd3786"
             ],
             [
              0.5555555555555556,
              "#d8576b"
             ],
             [
              0.6666666666666666,
              "#ed7953"
             ],
             [
              0.7777777777777778,
              "#fb9f3a"
             ],
             [
              0.8888888888888888,
              "#fdca26"
             ],
             [
              1,
              "#f0f921"
             ]
            ],
            "type": "heatmapgl"
           }
          ],
          "histogram": [
           {
            "marker": {
             "pattern": {
              "fillmode": "overlay",
              "size": 10,
              "solidity": 0.2
             }
            },
            "type": "histogram"
           }
          ],
          "histogram2d": [
           {
            "colorbar": {
             "outlinewidth": 0,
             "ticks": ""
            },
            "colorscale": [
             [
              0,
              "#0d0887"
             ],
             [
              0.1111111111111111,
              "#46039f"
             ],
             [
              0.2222222222222222,
              "#7201a8"
             ],
             [
              0.3333333333333333,
              "#9c179e"
             ],
             [
              0.4444444444444444,
              "#bd3786"
             ],
             [
              0.5555555555555556,
              "#d8576b"
             ],
             [
              0.6666666666666666,
              "#ed7953"
             ],
             [
              0.7777777777777778,
              "#fb9f3a"
             ],
             [
              0.8888888888888888,
              "#fdca26"
             ],
             [
              1,
              "#f0f921"
             ]
            ],
            "type": "histogram2d"
           }
          ],
          "histogram2dcontour": [
           {
            "colorbar": {
             "outlinewidth": 0,
             "ticks": ""
            },
            "colorscale": [
             [
              0,
              "#0d0887"
             ],
             [
              0.1111111111111111,
              "#46039f"
             ],
             [
              0.2222222222222222,
              "#7201a8"
             ],
             [
              0.3333333333333333,
              "#9c179e"
             ],
             [
              0.4444444444444444,
              "#bd3786"
             ],
             [
              0.5555555555555556,
              "#d8576b"
             ],
             [
              0.6666666666666666,
              "#ed7953"
             ],
             [
              0.7777777777777778,
              "#fb9f3a"
             ],
             [
              0.8888888888888888,
              "#fdca26"
             ],
             [
              1,
              "#f0f921"
             ]
            ],
            "type": "histogram2dcontour"
           }
          ],
          "mesh3d": [
           {
            "colorbar": {
             "outlinewidth": 0,
             "ticks": ""
            },
            "type": "mesh3d"
           }
          ],
          "parcoords": [
           {
            "line": {
             "colorbar": {
              "outlinewidth": 0,
              "ticks": ""
             }
            },
            "type": "parcoords"
           }
          ],
          "pie": [
           {
            "automargin": true,
            "type": "pie"
           }
          ],
          "scatter": [
           {
            "fillpattern": {
             "fillmode": "overlay",
             "size": 10,
             "solidity": 0.2
            },
            "type": "scatter"
           }
          ],
          "scatter3d": [
           {
            "line": {
             "colorbar": {
              "outlinewidth": 0,
              "ticks": ""
             }
            },
            "marker": {
             "colorbar": {
              "outlinewidth": 0,
              "ticks": ""
             }
            },
            "type": "scatter3d"
           }
          ],
          "scattercarpet": [
           {
            "marker": {
             "colorbar": {
              "outlinewidth": 0,
              "ticks": ""
             }
            },
            "type": "scattercarpet"
           }
          ],
          "scattergeo": [
           {
            "marker": {
             "colorbar": {
              "outlinewidth": 0,
              "ticks": ""
             }
            },
            "type": "scattergeo"
           }
          ],
          "scattergl": [
           {
            "marker": {
             "colorbar": {
              "outlinewidth": 0,
              "ticks": ""
             }
            },
            "type": "scattergl"
           }
          ],
          "scattermapbox": [
           {
            "marker": {
             "colorbar": {
              "outlinewidth": 0,
              "ticks": ""
             }
            },
            "type": "scattermapbox"
           }
          ],
          "scatterpolar": [
           {
            "marker": {
             "colorbar": {
              "outlinewidth": 0,
              "ticks": ""
             }
            },
            "type": "scatterpolar"
           }
          ],
          "scatterpolargl": [
           {
            "marker": {
             "colorbar": {
              "outlinewidth": 0,
              "ticks": ""
             }
            },
            "type": "scatterpolargl"
           }
          ],
          "scatterternary": [
           {
            "marker": {
             "colorbar": {
              "outlinewidth": 0,
              "ticks": ""
             }
            },
            "type": "scatterternary"
           }
          ],
          "surface": [
           {
            "colorbar": {
             "outlinewidth": 0,
             "ticks": ""
            },
            "colorscale": [
             [
              0,
              "#0d0887"
             ],
             [
              0.1111111111111111,
              "#46039f"
             ],
             [
              0.2222222222222222,
              "#7201a8"
             ],
             [
              0.3333333333333333,
              "#9c179e"
             ],
             [
              0.4444444444444444,
              "#bd3786"
             ],
             [
              0.5555555555555556,
              "#d8576b"
             ],
             [
              0.6666666666666666,
              "#ed7953"
             ],
             [
              0.7777777777777778,
              "#fb9f3a"
             ],
             [
              0.8888888888888888,
              "#fdca26"
             ],
             [
              1,
              "#f0f921"
             ]
            ],
            "type": "surface"
           }
          ],
          "table": [
           {
            "cells": {
             "fill": {
              "color": "#EBF0F8"
             },
             "line": {
              "color": "white"
             }
            },
            "header": {
             "fill": {
              "color": "#C8D4E3"
             },
             "line": {
              "color": "white"
             }
            },
            "type": "table"
           }
          ]
         },
         "layout": {
          "annotationdefaults": {
           "arrowcolor": "#2a3f5f",
           "arrowhead": 0,
           "arrowwidth": 1
          },
          "autotypenumbers": "strict",
          "coloraxis": {
           "colorbar": {
            "outlinewidth": 0,
            "ticks": ""
           }
          },
          "colorscale": {
           "diverging": [
            [
             0,
             "#8e0152"
            ],
            [
             0.1,
             "#c51b7d"
            ],
            [
             0.2,
             "#de77ae"
            ],
            [
             0.3,
             "#f1b6da"
            ],
            [
             0.4,
             "#fde0ef"
            ],
            [
             0.5,
             "#f7f7f7"
            ],
            [
             0.6,
             "#e6f5d0"
            ],
            [
             0.7,
             "#b8e186"
            ],
            [
             0.8,
             "#7fbc41"
            ],
            [
             0.9,
             "#4d9221"
            ],
            [
             1,
             "#276419"
            ]
           ],
           "sequential": [
            [
             0,
             "#0d0887"
            ],
            [
             0.1111111111111111,
             "#46039f"
            ],
            [
             0.2222222222222222,
             "#7201a8"
            ],
            [
             0.3333333333333333,
             "#9c179e"
            ],
            [
             0.4444444444444444,
             "#bd3786"
            ],
            [
             0.5555555555555556,
             "#d8576b"
            ],
            [
             0.6666666666666666,
             "#ed7953"
            ],
            [
             0.7777777777777778,
             "#fb9f3a"
            ],
            [
             0.8888888888888888,
             "#fdca26"
            ],
            [
             1,
             "#f0f921"
            ]
           ],
           "sequentialminus": [
            [
             0,
             "#0d0887"
            ],
            [
             0.1111111111111111,
             "#46039f"
            ],
            [
             0.2222222222222222,
             "#7201a8"
            ],
            [
             0.3333333333333333,
             "#9c179e"
            ],
            [
             0.4444444444444444,
             "#bd3786"
            ],
            [
             0.5555555555555556,
             "#d8576b"
            ],
            [
             0.6666666666666666,
             "#ed7953"
            ],
            [
             0.7777777777777778,
             "#fb9f3a"
            ],
            [
             0.8888888888888888,
             "#fdca26"
            ],
            [
             1,
             "#f0f921"
            ]
           ]
          },
          "colorway": [
           "#636efa",
           "#EF553B",
           "#00cc96",
           "#ab63fa",
           "#FFA15A",
           "#19d3f3",
           "#FF6692",
           "#B6E880",
           "#FF97FF",
           "#FECB52"
          ],
          "font": {
           "color": "#2a3f5f"
          },
          "geo": {
           "bgcolor": "white",
           "lakecolor": "white",
           "landcolor": "#E5ECF6",
           "showlakes": true,
           "showland": true,
           "subunitcolor": "white"
          },
          "hoverlabel": {
           "align": "left"
          },
          "hovermode": "closest",
          "mapbox": {
           "style": "light"
          },
          "paper_bgcolor": "white",
          "plot_bgcolor": "#E5ECF6",
          "polar": {
           "angularaxis": {
            "gridcolor": "white",
            "linecolor": "white",
            "ticks": ""
           },
           "bgcolor": "#E5ECF6",
           "radialaxis": {
            "gridcolor": "white",
            "linecolor": "white",
            "ticks": ""
           }
          },
          "scene": {
           "xaxis": {
            "backgroundcolor": "#E5ECF6",
            "gridcolor": "white",
            "gridwidth": 2,
            "linecolor": "white",
            "showbackground": true,
            "ticks": "",
            "zerolinecolor": "white"
           },
           "yaxis": {
            "backgroundcolor": "#E5ECF6",
            "gridcolor": "white",
            "gridwidth": 2,
            "linecolor": "white",
            "showbackground": true,
            "ticks": "",
            "zerolinecolor": "white"
           },
           "zaxis": {
            "backgroundcolor": "#E5ECF6",
            "gridcolor": "white",
            "gridwidth": 2,
            "linecolor": "white",
            "showbackground": true,
            "ticks": "",
            "zerolinecolor": "white"
           }
          },
          "shapedefaults": {
           "line": {
            "color": "#2a3f5f"
           }
          },
          "ternary": {
           "aaxis": {
            "gridcolor": "white",
            "linecolor": "white",
            "ticks": ""
           },
           "baxis": {
            "gridcolor": "white",
            "linecolor": "white",
            "ticks": ""
           },
           "bgcolor": "#E5ECF6",
           "caxis": {
            "gridcolor": "white",
            "linecolor": "white",
            "ticks": ""
           }
          },
          "title": {
           "x": 0.05
          },
          "xaxis": {
           "automargin": true,
           "gridcolor": "white",
           "linecolor": "white",
           "ticks": "",
           "title": {
            "standoff": 15
           },
           "zerolinecolor": "white",
           "zerolinewidth": 2
          },
          "yaxis": {
           "automargin": true,
           "gridcolor": "white",
           "linecolor": "white",
           "ticks": "",
           "title": {
            "standoff": 15
           },
           "zerolinecolor": "white",
           "zerolinewidth": 2
          }
         }
        },
        "width": 1100,
        "xaxis": {
         "autorange": true,
         "gridcolor": "#2c303c",
         "nticks": 5,
         "range": [
          -0.5,
          99.5
         ],
         "rangeslider": {
          "visible": false,
          "yaxis": {}
         },
         "type": "category"
        },
        "yaxis": {
         "autorange": true,
         "gridcolor": "#2c303c",
         "range": [
          1.1175266666666666,
          1.1393933333333335
         ]
        }
       }
      },
      "image/png": "[encoded data removed]",
      "text/html": [
       "<div>                            <div id=\"3289640c-1979-4640-8a8d-15915f7b8859\" class=\"plotly-graph-div\" style=\"height:600px; width:1100px;\"></div>            <script type=\"text/javascript\">                require([\"plotly\"], function(Plotly) {                    window.PLOTLYENV=window.PLOTLYENV || {};                                    if (document.getElementById(\"3289640c-1979-4640-8a8d-15915f7b8859\")) {                    Plotly.newPlot(                        \"3289640c-1979-4640-8a8d-15915f7b8859\",                        [{\"close\":[1.13124,1.12991,1.13189,1.13189,1.13243,1.13182,1.13319,1.13348,1.13699,1.1373,1.13568,1.13528,1.12993,1.1288,1.12984,1.12819,1.12728,1.12776,1.12802,1.12803,1.12486,1.12344,1.12376,1.12342,1.12593,1.1252,1.12544,1.12492,1.12396,1.12394,1.1208,1.12067,1.11958,1.12008,1.12074,1.12127,1.12232,1.12188,1.12095,1.12092,1.1218,1.12238,1.12647,1.1293,1.13036,1.13102,1.12842,1.12782,1.12861,1.12623,1.12682,1.12925,1.12942,1.13115,1.13636,1.13662,1.13113,1.13392,1.13204,1.1337,1.13256,1.13374,1.13237,1.132,1.1328,1.13182,1.13243,1.13342,1.13026,1.1301,1.12989,1.12994,1.12976,1.13102,1.13108,1.13109,1.12942,1.12822,1.12974,1.12971,1.12788,1.12857,1.1282,1.12872,1.12748,1.12402,1.1244,1.12686,1.12792,1.12936,1.12851,1.13164,1.13486,1.13433,1.13344,1.1327,1.13192,1.13167,1.12899,1.12933],\"decreasing\":{\"fillcolor\":\"#CC2E3C\",\"line\":{\"color\":\"#FF3A4C\"}},\"high\":[1.1321,1.13322,1.13268,1.13266,1.13284,1.13381,1.13399,1.13484,1.1374,1.13742,1.13734,1.13583,1.13606,1.13052,1.13222,1.13029,1.12898,1.12789,1.12879,1.12905,1.12801,1.125,1.1244,1.12414,1.12751,1.12691,1.12714,1.12552,1.12536,1.1245,1.12554,1.12203,1.12162,1.12056,1.12124,1.12184,1.12264,1.12298,1.12222,1.12124,1.1225,1.12278,1.1279,1.1297,1.13214,1.13343,1.13163,1.12852,1.12905,1.12948,1.12757,1.1293,1.13006,1.13132,1.13666,1.13728,1.1383,1.13456,1.13428,1.13373,1.13598,1.13406,1.13578,1.133,1.13284,1.13392,1.13276,1.13478,1.13474,1.13082,1.13078,1.13024,1.12999,1.13338,1.13144,1.13272,1.13133,1.12966,1.12998,1.13102,1.1308,1.12862,1.12872,1.12929,1.12984,1.12782,1.12549,1.12738,1.12816,1.12958,1.12955,1.13177,1.13495,1.13548,1.13462,1.1337,1.13338,1.13237,1.13196,1.12958],\"increasing\":{\"fillcolor\":\"#24A06B\",\"line\":{\"color\":\"#2EC886\"}},\"line\":{\"width\":1},\"low\":[1.12956,1.1298,1.1293,1.13111,1.13157,1.13159,1.13138,1.1328,1.13269,1.1367,1.1356,1.1352,1.12829,1.12498,1.12878,1.12808,1.1265,1.1265,1.126,1.12654,1.12362,1.12308,1.12366,1.1226,1.12322,1.12342,1.12402,1.12462,1.1239,1.12326,1.12053,1.11922,1.11862,1.11884,1.11988,1.12066,1.1212,1.1215,1.12062,1.12058,1.12062,1.12125,1.12208,1.12582,1.12828,1.12994,1.12808,1.12728,1.12602,1.12618,1.12584,1.12656,1.12848,1.12927,1.13076,1.13414,1.1235,1.13078,1.13183,1.13164,1.13026,1.13106,1.13153,1.13091,1.13142,1.13168,1.13074,1.13228,1.12957,1.12953,1.12907,1.12926,1.12818,1.12882,1.12666,1.13014,1.12886,1.1282,1.12748,1.1285,1.12664,1.12726,1.12758,1.12808,1.12536,1.12274,1.12353,1.12418,1.12667,1.12793,1.12787,1.12666,1.13004,1.13421,1.13329,1.13268,1.13154,1.1307,1.12784,1.12824],\"opacity\":1,\"open\":[1.12992,1.13126,1.12992,1.13191,1.132,1.13244,1.13182,1.13318,1.13347,1.13698,1.13692,1.13569,1.13526,1.12994,1.12882,1.12985,1.12814,1.12726,1.12775,1.12801,1.12801,1.12485,1.12374,1.12374,1.12343,1.12594,1.12519,1.12542,1.12479,1.12394,1.12396,1.12081,1.12068,1.11956,1.11988,1.12072,1.12126,1.1223,1.1219,1.12098,1.1208,1.12178,1.1224,1.12646,1.12928,1.13036,1.13026,1.12843,1.1278,1.1286,1.12624,1.1268,1.12918,1.12941,1.13114,1.13638,1.13661,1.13115,1.13398,1.13206,1.13372,1.13255,1.13375,1.13235,1.13188,1.13278,1.13183,1.13244,1.1334,1.13024,1.1301,1.12988,1.12992,1.12974,1.131,1.13108,1.1303,1.12941,1.12824,1.12972,1.12969,1.12789,1.12859,1.12822,1.12874,1.12746,1.12404,1.12439,1.12674,1.12793,1.12935,1.1285,1.13165,1.13484,1.13445,1.13345,1.13268,1.1319,1.13166,1.129],\"x\":[\"s21-11-17 06:00\",\"s21-11-17 10:00\",\"s21-11-17 14:00\",\"s21-11-17 18:00\",\"s21-11-17 22:00\",\"s21-11-18 02:00\",\"s21-11-18 06:00\",\"s21-11-18 10:00\",\"s21-11-18 14:00\",\"s21-11-18 18:00\",\"s21-11-18 22:00\",\"s21-11-19 02:00\",\"s21-11-19 06:00\",\"s21-11-19 10:00\",\"s21-11-19 14:00\",\"s21-11-19 18:00\",\"s21-11-21 22:00\",\"s21-11-22 02:00\",\"s21-11-22 06:00\",\"s21-11-22 10:00\",\"s21-11-22 14:00\",\"s21-11-22 18:00\",\"s21-11-22 22:00\",\"s21-11-23 02:00\",\"s21-11-23 06:00\",\"s21-11-23 10:00\",\"s21-11-23 14:00\",\"s21-11-23 18:00\",\"s21-11-23 22:00\",\"s21-11-24 02:00\",\"s21-11-24 06:00\",\"s21-11-24 10:00\",\"s21-11-24 14:00\",\"s21-11-24 18:00\",\"s21-11-24 22:00\",\"s21-11-25 02:00\",\"s21-11-25 06:00\",\"s21-11-25 10:00\",\"s21-11-25 14:00\",\"s21-11-25 18:00\",\"s21-11-25 22:00\",\"s21-11-26 02:00\",\"s21-11-26 06:00\",\"s21-11-26 10:00\",\"s21-11-26 14:00\",\"s21-11-26 18:00\",\"s21-11-28 22:00\",\"s21-11-29 02:00\",\"s21-11-29 06:00\",\"s21-11-29 10:00\",\"s21-11-29 14:00\",\"s21-11-29 18:00\",\"s21-11-29 22:00\",\"s21-11-30 02:00\",\"s21-11-30 06:00\",\"s21-11-30 10:00\",\"s21-11-30 14:00\",\"s21-11-30 18:00\",\"s21-11-30 22:00\",\"s21-12-01 02:00\",\"s21-12-01 06:00\",\"s21-12-01 10:00\",\"s21-12-01 14:00\",\"s21-12-01 18:00\",\"s21-12-01 22:00\",\"s21-12-02 02:00\",\"s21-12-02 06:00\",\"s21-12-02 10:00\",\"s21-12-02 14:00\",\"s21-12-02 18:00\",\"s21-12-02 22:00\",\"s21-12-03 02:00\",\"s21-12-03 06:00\",\"s21-12-03 10:00\",\"s21-12-03 14:00\",\"s21-12-03 18:00\",\"s21-12-05 22:00\",\"s21-12-06 02:00\",\"s21-12-06 06:00\",\"s21-12-06 10:00\",\"s21-12-06 14:00\",\"s21-12-06 18:00\",\"s21-12-06 22:00\",\"s21-12-07 02:00\",\"s21-12-07 06:00\",\"s21-12-07 10:00\",\"s21-12-07 14:00\",\"s21-12-07 18:00\",\"s21-12-07 22:00\",\"s21-12-08 02:00\",\"s21-12-08 06:00\",\"s21-12-08 10:00\",\"s21-12-08 14:00\",\"s21-12-08 18:00\",\"s21-12-08 22:00\",\"s21-12-09 02:00\",\"s21-12-09 06:00\",\"s21-12-09 10:00\",\"s21-12-09 14:00\",\"s21-12-09 18:00\"],\"type\":\"candlestick\"}],                        {\"template\":{\"data\":{\"histogram2dcontour\":[{\"type\":\"histogram2dcontour\",\"colorbar\":{\"outlinewidth\":0,\"ticks\":\"\"},\"colorscale\":[[0.0,\"#0d0887\"],[0.1111111111111111,\"#46039f\"],[0.2222222222222222,\"#7201a8\"],[0.3333333333333333,\"#9c179e\"],[0.4444444444444444,\"#bd3786\"],[0.5555555555555556,\"#d8576b\"],[0.6666666666666666,\"#ed7953\"],[0.7777777777777778,\"#fb9f3a\"],[0.8888888888888888,\"#fdca26\"],[1.0,\"#f0f921\"]]}],\"choropleth\":[{\"type\":\"choropleth\",\"colorbar\":{\"outlinewidth\":0,\"ticks\":\"\"}}],\"histogram2d\":[{\"type\":\"histogram2d\",\"colorbar\":{\"outlinewidth\":0,\"ticks\":\"\"},\"colorscale\":[[0.0,\"#0d0887\"],[0.1111111111111111,\"#46039f\"],[0.2222222222222222,\"#7201a8\"],[0.3333333333333333,\"#9c179e\"],[0.4444444444444444,\"#bd3786\"],[0.5555555555555556,\"#d8576b\"],[0.6666666666666666,\"#ed7953\"],[0.7777777777777778,\"#fb9f3a\"],[0.8888888888888888,\"#fdca26\"],[1.0,\"#f0f921\"]]}],\"heatmap\":[{\"type\":\"heatmap\",\"colorbar\":{\"outlinewidth\":0,\"ticks\":\"\"},\"colorscale\":[[0.0,\"#0d0887\"],[0.1111111111111111,\"#46039f\"],[0.2222222222222222,\"#7201a8\"],[0.3333333333333333,\"#9c179e\"],[0.4444444444444444,\"#bd3786\"],[0.5555555555555556,\"#d8576b\"],[0.6666666666666666,\"#ed7953\"],[0.7777777777777778,\"#fb9f3a\"],[0.8888888888888888,\"#fdca26\"],[1.0,\"#f0f921\"]]}],\"heatmapgl\":[{\"type\":\"heatmapgl\",\"colorbar\":{\"outlinewidth\":0,\"ticks\":\"\"},\"colorscale\":[[0.0,\"#0d0887\"],[0.1111111111111111,\"#46039f\"],[0.2222222222222222,\"#7201a8\"],[0.3333333333333333,\"#9c179e\"],[0.4444444444444444,\"#bd3786\"],[0.5555555555555556,\"#d8576b\"],[0.6666666666666666,\"#ed7953\"],[0.7777777777777778,\"#fb9f3a\"],[0.8888888888888888,\"#fdca26\"],[1.0,\"#f0f921\"]]}],\"contourcarpet\":[{\"type\":\"contourcarpet\",\"colorbar\":{\"outlinewidth\":0,\"ticks\":\"\"}}],\"contour\":[{\"type\":\"contour\",\"colorbar\":{\"outlinewidth\":0,\"ticks\":\"\"},\"colorscale\":[[0.0,\"#0d0887\"],[0.1111111111111111,\"#46039f\"],[0.2222222222222222,\"#7201a8\"],[0.3333333333333333,\"#9c179e\"],[0.4444444444444444,\"#bd3786\"],[0.5555555555555556,\"#d8576b\"],[0.6666666666666666,\"#ed7953\"],[0.7777777777777778,\"#fb9f3a\"],[0.8888888888888888,\"#fdca26\"],[1.0,\"#f0f921\"]]}],\"surface\":[{\"type\":\"surface\",\"colorbar\":{\"outlinewidth\":0,\"ticks\":\"\"},\"colorscale\":[[0.0,\"#0d0887\"],[0.1111111111111111,\"#46039f\"],[0.2222222222222222,\"#7201a8\"],[0.3333333333333333,\"#9c179e\"],[0.4444444444444444,\"#bd3786\"],[0.5555555555555556,\"#d8576b\"],[0.6666666666666666,\"#ed7953\"],[0.7777777777777778,\"#fb9f3a\"],[0.8888888888888888,\"#fdca26\"],[1.0,\"#f0f921\"]]}],\"mesh3d\":[{\"type\":\"mesh3d\",\"colorbar\":{\"outlinewidth\":0,\"ticks\":\"\"}}],\"scatter\":[{\"fillpattern\":{\"fillmode\":\"overlay\",\"size\":10,\"solidity\":0.2},\"type\":\"scatter\"}],\"parcoords\":[{\"type\":\"parcoords\",\"line\":{\"colorbar\":{\"outlinewidth\":0,\"ticks\":\"\"}}}],\"scatterpolargl\":[{\"type\":\"scatterpolargl\",\"marker\":{\"colorbar\":{\"outlinewidth\":0,\"ticks\":\"\"}}}],\"bar\":[{\"error_x\":{\"color\":\"#2a3f5f\"},\"error_y\":{\"color\":\"#2a3f5f\"},\"marker\":{\"line\":{\"color\":\"#E5ECF6\",\"width\":0.5},\"pattern\":{\"fillmode\":\"overlay\",\"size\":10,\"solidity\":0.2}},\"type\":\"bar\"}],\"scattergeo\":[{\"type\":\"scattergeo\",\"marker\":{\"colorbar\":{\"outlinewidth\":0,\"ticks\":\"\"}}}],\"scatterpolar\":[{\"type\":\"scatterpolar\",\"marker\":{\"colorbar\":{\"outlinewidth\":0,\"ticks\":\"\"}}}],\"histogram\":[{\"marker\":{\"pattern\":{\"fillmode\":\"overlay\",\"size\":10,\"solidity\":0.2}},\"type\":\"histogram\"}],\"scattergl\":[{\"type\":\"scattergl\",\"marker\":{\"colorbar\":{\"outlinewidth\":0,\"ticks\":\"\"}}}],\"scatter3d\":[{\"type\":\"scatter3d\",\"line\":{\"colorbar\":{\"outlinewidth\":0,\"ticks\":\"\"}},\"marker\":{\"colorbar\":{\"outlinewidth\":0,\"ticks\":\"\"}}}],\"scattermapbox\":[{\"type\":\"scattermapbox\",\"marker\":{\"colorbar\":{\"outlinewidth\":0,\"ticks\":\"\"}}}],\"scatterternary\":[{\"type\":\"scatterternary\",\"marker\":{\"colorbar\":{\"outlinewidth\":0,\"ticks\":\"\"}}}],\"scattercarpet\":[{\"type\":\"scattercarpet\",\"marker\":{\"colorbar\":{\"outlinewidth\":0,\"ticks\":\"\"}}}],\"carpet\":[{\"aaxis\":{\"endlinecolor\":\"#2a3f5f\",\"gridcolor\":\"white\",\"linecolor\":\"white\",\"minorgridcolor\":\"white\",\"startlinecolor\":\"#2a3f5f\"},\"baxis\":{\"endlinecolor\":\"#2a3f5f\",\"gridcolor\":\"white\",\"linecolor\":\"white\",\"minorgridcolor\":\"white\",\"startlinecolor\":\"#2a3f5f\"},\"type\":\"carpet\"}],\"table\":[{\"cells\":{\"fill\":{\"color\":\"#EBF0F8\"},\"line\":{\"color\":\"white\"}},\"header\":{\"fill\":{\"color\":\"#C8D4E3\"},\"line\":{\"color\":\"white\"}},\"type\":\"table\"}],\"barpolar\":[{\"marker\":{\"line\":{\"color\":\"#E5ECF6\",\"width\":0.5},\"pattern\":{\"fillmode\":\"overlay\",\"size\":10,\"solidity\":0.2}},\"type\":\"barpolar\"}],\"pie\":[{\"automargin\":true,\"type\":\"pie\"}]},\"layout\":{\"autotypenumbers\":\"strict\",\"colorway\":[\"#636efa\",\"#EF553B\",\"#00cc96\",\"#ab63fa\",\"#FFA15A\",\"#19d3f3\",\"#FF6692\",\"#B6E880\",\"#FF97FF\",\"#FECB52\"],\"font\":{\"color\":\"#2a3f5f\"},\"hovermode\":\"closest\",\"hoverlabel\":{\"align\":\"left\"},\"paper_bgcolor\":\"white\",\"plot_bgcolor\":\"#E5ECF6\",\"polar\":{\"bgcolor\":\"#E5ECF6\",\"angularaxis\":{\"gridcolor\":\"white\",\"linecolor\":\"white\",\"ticks\":\"\"},\"radialaxis\":{\"gridcolor\":\"white\",\"linecolor\":\"white\",\"ticks\":\"\"}},\"ternary\":{\"bgcolor\":\"#E5ECF6\",\"aaxis\":{\"gridcolor\":\"white\",\"linecolor\":\"white\",\"ticks\":\"\"},\"baxis\":{\"gridcolor\":\"white\",\"linecolor\":\"white\",\"ticks\":\"\"},\"caxis\":{\"gridcolor\":\"white\",\"linecolor\":\"white\",\"ticks\":\"\"}},\"coloraxis\":{\"colorbar\":{\"outlinewidth\":0,\"ticks\":\"\"}},\"colorscale\":{\"sequential\":[[0.0,\"#0d0887\"],[0.1111111111111111,\"#46039f\"],[0.2222222222222222,\"#7201a8\"],[0.3333333333333333,\"#9c179e\"],[0.4444444444444444,\"#bd3786\"],[0.5555555555555556,\"#d8576b\"],[0.6666666666666666,\"#ed7953\"],[0.7777777777777778,\"#fb9f3a\"],[0.8888888888888888,\"#fdca26\"],[1.0,\"#f0f921\"]],\"sequentialminus\":[[0.0,\"#0d0887\"],[0.1111111111111111,\"#46039f\"],[0.2222222222222222,\"#7201a8\"],[0.3333333333333333,\"#9c179e\"],[0.4444444444444444,\"#bd3786\"],[0.5555555555555556,\"#d8576b\"],[0.6666666666666666,\"#ed7953\"],[0.7777777777777778,\"#fb9f3a\"],[0.8888888888888888,\"#fdca26\"],[1.0,\"#f0f921\"]],\"diverging\":[[0,\"#8e0152\"],[0.1,\"#c51b7d\"],[0.2,\"#de77ae\"],[0.3,\"#f1b6da\"],[0.4,\"#fde0ef\"],[0.5,\"#f7f7f7\"],[0.6,\"#e6f5d0\"],[0.7,\"#b8e186\"],[0.8,\"#7fbc41\"],[0.9,\"#4d9221\"],[1,\"#276419\"]]},\"xaxis\":{\"gridcolor\":\"white\",\"linecolor\":\"white\",\"ticks\":\"\",\"title\":{\"standoff\":15},\"zerolinecolor\":\"white\",\"automargin\":true,\"zerolinewidth\":2},\"yaxis\":{\"gridcolor\":\"white\",\"linecolor\":\"white\",\"ticks\":\"\",\"title\":{\"standoff\":15},\"zerolinecolor\":\"white\",\"automargin\":true,\"zerolinewidth\":2},\"scene\":{\"xaxis\":{\"backgroundcolor\":\"#E5ECF6\",\"gridcolor\":\"white\",\"linecolor\":\"white\",\"showbackground\":true,\"ticks\":\"\",\"zerolinecolor\":\"white\",\"gridwidth\":2},\"yaxis\":{\"backgroundcolor\":\"#E5ECF6\",\"gridcolor\":\"white\",\"linecolor\":\"white\",\"showbackground\":true,\"ticks\":\"\",\"zerolinecolor\":\"white\",\"gridwidth\":2},\"zaxis\":{\"backgroundcolor\":\"#E5ECF6\",\"gridcolor\":\"white\",\"linecolor\":\"white\",\"showbackground\":true,\"ticks\":\"\",\"zerolinecolor\":\"white\",\"gridwidth\":2}},\"shapedefaults\":{\"line\":{\"color\":\"#2a3f5f\"}},\"annotationdefaults\":{\"arrowcolor\":\"#2a3f5f\",\"arrowhead\":0,\"arrowwidth\":1},\"geo\":{\"bgcolor\":\"white\",\"landcolor\":\"#E5ECF6\",\"subunitcolor\":\"white\",\"showland\":true,\"showlakes\":true,\"lakecolor\":\"white\"},\"title\":{\"x\":0.05},\"mapbox\":{\"style\":\"light\"}}},\"yaxis\":{\"gridcolor\":\"#2c303c\"},\"xaxis\":{\"rangeslider\":{\"visible\":false},\"gridcolor\":\"#2c303c\",\"nticks\":5},\"margin\":{\"l\":10,\"r\":10,\"b\":10,\"t\":10},\"font\":{\"size\":8,\"color\":\"#e1e1e1\"},\"width\":1100,\"height\":600,\"paper_bgcolor\":\"#2c303c\",\"plot_bgcolor\":\"#2c303c\"},                        {\"responsive\": true}                    ).then(function(){\n",
       "                            \n",
       "var gd = document.getElementById('3289640c-1979-4640-8a8d-15915f7b8859');\n",
       "var x = new MutationObserver(function (mutations, observer) {{\n",
       "        var display = window.getComputedStyle(gd).display;\n",
       "        if (!display || display === 'none') {{\n",
       "            console.log([gd, 'removed!']);\n",
       "            Plotly.purge(gd);\n",
       "            observer.disconnect();\n",
       "        }}\n",
       "}});\n",
       "\n",
       "// Listen for the removal of the full notebook cells\n",
       "var notebookContainer = gd.closest('#notebook-container');\n",
       "if (notebookContainer) {{\n",
       "    x.observe(notebookContainer, {childList: true});\n",
       "}}\n",
       "\n",
       "// Listen for the clearing of the current output cell\n",
       "var outputEl = gd.closest('.output');\n",
       "if (outputEl) {{\n",
       "    x.observe(outputEl, {childList: true});\n",
       "}}\n",
       "\n",
       "                        })                };                });            </script>        </div>"
      ]
     },
     "metadata": {},
     "output_type": "display_data"
    }
   ],
   "source": [
    "fig = go.Figure()\n",
    "fig.add_trace(go.Candlestick(\n",
    "    x = df_plot.sTime,\n",
    "    open = df_plot.mid_o,\n",
    "    high = df_plot.mid_h,\n",
    "    low = df_plot.mid_l,\n",
    "    close = df_plot.mid_c,\n",
    "    line=dict(width=1),\n",
    "    opacity=1,\n",
    "    increasing_fillcolor='#24A06B',\n",
    "    decreasing_fillcolor='#CC2E3C',\n",
    "    increasing_line_color='#2EC886',\n",
    "    decreasing_line_color='#FF3A4C',\n",
    "))\n",
    "\n",
    "fig.update_yaxes(\n",
    "    gridcolor='#2c303c'\n",
    ")\n",
    "\n",
    "fig.update_xaxes(\n",
    "    gridcolor='#2c303c',\n",
    "    rangeslider=dict(visible=False),\n",
    "    nticks=5\n",
    "    \n",
    ")\n",
    "\n",
    "fig.update_layout(\n",
    "    width=1100,\n",
    "    height=600,\n",
    "    margin=dict(l=10,r=10,b=10,t=10),\n",
    "    paper_bgcolor='#2c303c',\n",
    "    plot_bgcolor='#2c303c',\n",
    "    font=dict(size=8, color='#e1e1e1')\n",
    ")\n",
    "fig.show()"
   ]
  },
  {
   "cell_type": "code",
   "execution_count": null,
   "id": "4e123d5a-9508-4f47-b72b-796c7345ca4e",
   "metadata": {},
   "outputs": [],
   "source": []
  },
  {
   "cell_type": "code",
   "execution_count": null,
   "id": "b5877cfe-b240-4482-ba6c-a6a65462f020",
   "metadata": {},
   "outputs": [],
   "source": []
  }
 ],
 "metadata": {
  "kernelspec": {
   "display_name": "Python 3 (ipykernel)",
   "language": "python",
   "name": "python3"
  },
  "language_info": {
   "codemirror_mode": {
    "name": "ipython",
    "version": 3
   },
   "file_extension": ".py",
   "mimetype": "text/x-python",
   "name": "python",
   "nbconvert_exporter": "python",
   "pygments_lexer": "ipython3",
   "version": "3.12.3"
  }
 },
 "nbformat": 4,
 "nbformat_minor": 5
}
